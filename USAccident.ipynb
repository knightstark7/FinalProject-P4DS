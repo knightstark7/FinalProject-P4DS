{
 "cells": [
  {
   "cell_type": "markdown",
   "metadata": {},
   "source": [
    "# Final Project - Programming For Data Science - 21KHDL1\n",
    "\n",
    "## VNU HCM - University of Science\n",
    "---"
   ]
  },
  {
   "cell_type": "markdown",
   "metadata": {},
   "source": [
    "## Member Information\n",
    "| Name              | ID       |\n",
    "|-------------------|----------|\n",
    "| Tran Nguyen Huan  | 21127050 |\n",
    "| Nguyen Phat Dat   | 21127240 |"
   ]
  },
  {
   "cell_type": "markdown",
   "metadata": {},
   "source": [
    "# Table of Contents"
   ]
  },
  {
   "cell_type": "markdown",
   "metadata": {},
   "source": [
    "## Overview\n",
    "---"
   ]
  },
  {
   "cell_type": "markdown",
   "metadata": {},
   "source": [
    "<h3>\n",
    "    <b>\n",
    "    US Accidents (2016 - 2023)\n",
    "    </b>\n",
    "</h3>\n",
    "    <img style=\"padding:10px\" src=\"https://hire.refactored.ai/upload-nct/portfolio_images/253/1626148168_GqMh6a2U.png\" width=\"800\"/>\n",
    "</center>\n",
    "This is a countrywide car accident dataset that were collected using multiple APIs that provide streaming traffic incident (or event) data. These APIs broadcast traffic data captured by various entities, including the US and state departments of transportation, law enforcement agencies, traffic cameras, and traffic sensors within the road networks.\n",
    "\n",
    "The data covers _49 states of the USA_ from _February 2016 to March 2023_. \n",
    "\n",
    "Note that the original dataset contains approximately __7.7 million records__ which is too large for our purpose (mostly data analysis). Therefore, we will just use a sampled version of this dataset which contains only __500.000 accident records__.\n",
    "\n",
    "Visit [here](https://smoosavi.org/datasets/us_accidents) for more information about the dataset.\n",
    "\n",
    "This Dataset can be accessed [here](https://doi.org/10.34740/KAGGLE/DS/199387): Sobhan Moosavi. (2023). <i>US Accidents (2016 - 2023)</i> Kaggle. Or [here](https://drive.google.com/file/d/1U3u8QYzLjnEaSurtZfSAS_oh9AT2Mn8X) for the sampled data.\n",
    "<center>\n"
   ]
  },
  {
   "cell_type": "markdown",
   "metadata": {},
   "source": [
    "__Goal:__ The primary goal of the project is to analyze and generate insights on the traffic accidents that took place in USA from Feb. 2016 to Mar. 2023."
   ]
  },
  {
   "cell_type": "markdown",
   "metadata": {},
   "source": [
    "## Usage Policy and Legal Disclaimer\n",
    "---\n",
    "This dataset is being distributed solely for research purposes under the Creative Commons Attribution-Noncommercial-ShareAlike license (CC BY-NC-SA 4.0). By downloading the dataset, we agree to use it only for non-commercial, research, or academic applications."
   ]
  },
  {
   "cell_type": "markdown",
   "metadata": {
    "vscode": {
     "languageId": "plaintext"
    }
   },
   "source": [
    "## Code Environment\n",
    "---"
   ]
  },
  {
   "cell_type": "code",
   "execution_count": 91,
   "metadata": {},
   "outputs": [
    {
     "data": {
      "text/plain": [
       "'d:\\\\Downloads\\\\anaconda\\\\python.exe'"
      ]
     },
     "execution_count": 91,
     "metadata": {},
     "output_type": "execute_result"
    }
   ],
   "source": [
    "import sys\n",
    "sys.executable"
   ]
  },
  {
   "cell_type": "markdown",
   "metadata": {},
   "source": [
    "## Import necessary libraries\n",
    "---"
   ]
  },
  {
   "cell_type": "code",
   "execution_count": 92,
   "metadata": {},
   "outputs": [],
   "source": [
    "import numpy as np\n",
    "import pandas as pd\n",
    "from pprint import pprint\n",
    "import matplotlib.pyplot as plt"
   ]
  },
  {
   "cell_type": "markdown",
   "metadata": {},
   "source": [
    "## Dataset Import\n",
    "---\n",
    "\n",
    "In the first place we are going to import the dataset using Pandas module."
   ]
  },
  {
   "cell_type": "code",
   "execution_count": 93,
   "metadata": {},
   "outputs": [],
   "source": [
    "df = pd.read_csv(\"Data/US_Accidents_March23_sampled_500k.csv\")"
   ]
  },
  {
   "cell_type": "markdown",
   "metadata": {},
   "source": [
    "Let's take a quick look at our data by examining the number of rows, columns.  "
   ]
  },
  {
   "cell_type": "code",
   "execution_count": 94,
   "metadata": {},
   "outputs": [
    {
     "name": "stdout",
     "output_type": "stream",
     "text": [
      "Shape: (500000, 46)\n"
     ]
    }
   ],
   "source": [
    "# print out the shape to know number of rows and columns\n",
    "print(\"Shape:\", df.shape)"
   ]
  },
  {
   "cell_type": "markdown",
   "metadata": {},
   "source": [
    "There are __500.000__ records of accidents in our data with each has __46__ features about that accident.\n",
    "\n",
    "The number of features here are a little too large, which might result in truncating when the data is being displayed. Therefore, we will set a larger the number of max columns in case this is not handled automatically."
   ]
  },
  {
   "cell_type": "code",
   "execution_count": 95,
   "metadata": {},
   "outputs": [],
   "source": [
    "# Set the Pandas display options to show all columns\n",
    "pd.set_option('display.max_columns', 50)"
   ]
  },
  {
   "cell_type": "markdown",
   "metadata": {},
   "source": [
    "Then, print out some samples to get a quick insight from our data."
   ]
  },
  {
   "cell_type": "code",
   "execution_count": 96,
   "metadata": {},
   "outputs": [
    {
     "data": {
      "text/html": [
       "<div>\n",
       "<style scoped>\n",
       "    .dataframe tbody tr th:only-of-type {\n",
       "        vertical-align: middle;\n",
       "    }\n",
       "\n",
       "    .dataframe tbody tr th {\n",
       "        vertical-align: top;\n",
       "    }\n",
       "\n",
       "    .dataframe thead th {\n",
       "        text-align: right;\n",
       "    }\n",
       "</style>\n",
       "<table border=\"1\" class=\"dataframe\">\n",
       "  <thead>\n",
       "    <tr style=\"text-align: right;\">\n",
       "      <th></th>\n",
       "      <th>ID</th>\n",
       "      <th>Source</th>\n",
       "      <th>Severity</th>\n",
       "      <th>Start_Time</th>\n",
       "      <th>End_Time</th>\n",
       "      <th>Start_Lat</th>\n",
       "      <th>Start_Lng</th>\n",
       "      <th>End_Lat</th>\n",
       "      <th>End_Lng</th>\n",
       "      <th>Distance(mi)</th>\n",
       "      <th>Description</th>\n",
       "      <th>Street</th>\n",
       "      <th>City</th>\n",
       "      <th>County</th>\n",
       "      <th>State</th>\n",
       "      <th>Zipcode</th>\n",
       "      <th>Country</th>\n",
       "      <th>Timezone</th>\n",
       "      <th>Airport_Code</th>\n",
       "      <th>Weather_Timestamp</th>\n",
       "      <th>Temperature(F)</th>\n",
       "      <th>Wind_Chill(F)</th>\n",
       "      <th>Humidity(%)</th>\n",
       "      <th>Pressure(in)</th>\n",
       "      <th>Visibility(mi)</th>\n",
       "      <th>Wind_Direction</th>\n",
       "      <th>Wind_Speed(mph)</th>\n",
       "      <th>Precipitation(in)</th>\n",
       "      <th>Weather_Condition</th>\n",
       "      <th>Amenity</th>\n",
       "      <th>Bump</th>\n",
       "      <th>Crossing</th>\n",
       "      <th>Give_Way</th>\n",
       "      <th>Junction</th>\n",
       "      <th>No_Exit</th>\n",
       "      <th>Railway</th>\n",
       "      <th>Roundabout</th>\n",
       "      <th>Station</th>\n",
       "      <th>Stop</th>\n",
       "      <th>Traffic_Calming</th>\n",
       "      <th>Traffic_Signal</th>\n",
       "      <th>Turning_Loop</th>\n",
       "      <th>Sunrise_Sunset</th>\n",
       "      <th>Civil_Twilight</th>\n",
       "      <th>Nautical_Twilight</th>\n",
       "      <th>Astronomical_Twilight</th>\n",
       "    </tr>\n",
       "  </thead>\n",
       "  <tbody>\n",
       "    <tr>\n",
       "      <th>383866</th>\n",
       "      <td>A-50550</td>\n",
       "      <td>Source2</td>\n",
       "      <td>2</td>\n",
       "      <td>2016-07-22 00:43:13</td>\n",
       "      <td>2016-07-22 01:43:13</td>\n",
       "      <td>34.024387</td>\n",
       "      <td>-117.559235</td>\n",
       "      <td>NaN</td>\n",
       "      <td>NaN</td>\n",
       "      <td>0.000</td>\n",
       "      <td>Accident on CA-60 Westbound at Exits 40 41 41A...</td>\n",
       "      <td>Pomona Fwy W</td>\n",
       "      <td>Ontario</td>\n",
       "      <td>San Bernardino</td>\n",
       "      <td>CA</td>\n",
       "      <td>91761</td>\n",
       "      <td>US</td>\n",
       "      <td>US/Pacific</td>\n",
       "      <td>KONT</td>\n",
       "      <td>2016-07-22 00:53:00</td>\n",
       "      <td>78.1</td>\n",
       "      <td>NaN</td>\n",
       "      <td>37.0</td>\n",
       "      <td>29.88</td>\n",
       "      <td>10.0</td>\n",
       "      <td>Calm</td>\n",
       "      <td>NaN</td>\n",
       "      <td>NaN</td>\n",
       "      <td>Clear</td>\n",
       "      <td>False</td>\n",
       "      <td>False</td>\n",
       "      <td>False</td>\n",
       "      <td>False</td>\n",
       "      <td>False</td>\n",
       "      <td>False</td>\n",
       "      <td>False</td>\n",
       "      <td>False</td>\n",
       "      <td>False</td>\n",
       "      <td>False</td>\n",
       "      <td>False</td>\n",
       "      <td>False</td>\n",
       "      <td>False</td>\n",
       "      <td>Night</td>\n",
       "      <td>Night</td>\n",
       "      <td>Night</td>\n",
       "      <td>Night</td>\n",
       "    </tr>\n",
       "    <tr>\n",
       "      <th>224258</th>\n",
       "      <td>A-6928273</td>\n",
       "      <td>Source1</td>\n",
       "      <td>2</td>\n",
       "      <td>2020-12-13 22:20:00</td>\n",
       "      <td>2020-12-14 00:24:57</td>\n",
       "      <td>37.926251</td>\n",
       "      <td>-122.514609</td>\n",
       "      <td>37.928317</td>\n",
       "      <td>-122.515264</td>\n",
       "      <td>0.147</td>\n",
       "      <td>NB 101 JNO TAM. WHI FORD MUST - BLKG #2</td>\n",
       "      <td>Redwood Hwy</td>\n",
       "      <td>Corte Madera</td>\n",
       "      <td>Marin</td>\n",
       "      <td>CA</td>\n",
       "      <td>94925</td>\n",
       "      <td>US</td>\n",
       "      <td>US/Pacific</td>\n",
       "      <td>KDVO</td>\n",
       "      <td>2020-12-13 08:50:00</td>\n",
       "      <td>50.0</td>\n",
       "      <td>50.0</td>\n",
       "      <td>100.0</td>\n",
       "      <td>30.07</td>\n",
       "      <td>3.0</td>\n",
       "      <td>VAR</td>\n",
       "      <td>6.0</td>\n",
       "      <td>0.0</td>\n",
       "      <td>Cloudy</td>\n",
       "      <td>True</td>\n",
       "      <td>False</td>\n",
       "      <td>False</td>\n",
       "      <td>False</td>\n",
       "      <td>False</td>\n",
       "      <td>False</td>\n",
       "      <td>False</td>\n",
       "      <td>False</td>\n",
       "      <td>False</td>\n",
       "      <td>False</td>\n",
       "      <td>False</td>\n",
       "      <td>False</td>\n",
       "      <td>False</td>\n",
       "      <td>Night</td>\n",
       "      <td>Night</td>\n",
       "      <td>Night</td>\n",
       "      <td>Night</td>\n",
       "    </tr>\n",
       "    <tr>\n",
       "      <th>457461</th>\n",
       "      <td>A-5099449</td>\n",
       "      <td>Source1</td>\n",
       "      <td>2</td>\n",
       "      <td>2022-02-12 09:48:30</td>\n",
       "      <td>2022-02-12 13:32:30</td>\n",
       "      <td>34.172085</td>\n",
       "      <td>-118.532134</td>\n",
       "      <td>34.173577</td>\n",
       "      <td>-118.548732</td>\n",
       "      <td>0.954</td>\n",
       "      <td>Slow traffic on Ventura Fwy W - US-101 N from ...</td>\n",
       "      <td>Burbank Blvd</td>\n",
       "      <td>Tarzana</td>\n",
       "      <td>Los Angeles</td>\n",
       "      <td>CA</td>\n",
       "      <td>91356</td>\n",
       "      <td>US</td>\n",
       "      <td>US/Pacific</td>\n",
       "      <td>KVNY</td>\n",
       "      <td>2022-02-12 09:51:00</td>\n",
       "      <td>80.0</td>\n",
       "      <td>80.0</td>\n",
       "      <td>13.0</td>\n",
       "      <td>29.29</td>\n",
       "      <td>10.0</td>\n",
       "      <td>N</td>\n",
       "      <td>9.0</td>\n",
       "      <td>0.0</td>\n",
       "      <td>Fair</td>\n",
       "      <td>False</td>\n",
       "      <td>False</td>\n",
       "      <td>False</td>\n",
       "      <td>False</td>\n",
       "      <td>True</td>\n",
       "      <td>False</td>\n",
       "      <td>False</td>\n",
       "      <td>False</td>\n",
       "      <td>False</td>\n",
       "      <td>False</td>\n",
       "      <td>False</td>\n",
       "      <td>False</td>\n",
       "      <td>False</td>\n",
       "      <td>Day</td>\n",
       "      <td>Day</td>\n",
       "      <td>Day</td>\n",
       "      <td>Day</td>\n",
       "    </tr>\n",
       "    <tr>\n",
       "      <th>292345</th>\n",
       "      <td>A-6183635</td>\n",
       "      <td>Source1</td>\n",
       "      <td>2</td>\n",
       "      <td>2021-06-02 11:32:02</td>\n",
       "      <td>2021-06-02 14:40:00</td>\n",
       "      <td>38.891627</td>\n",
       "      <td>-76.061654</td>\n",
       "      <td>38.868789</td>\n",
       "      <td>-76.061206</td>\n",
       "      <td>1.578</td>\n",
       "      <td>Stationary traffic on US-50 E from MD-404/Quee...</td>\n",
       "      <td>Ocean Gtwy</td>\n",
       "      <td>Cordova</td>\n",
       "      <td>Talbot</td>\n",
       "      <td>MD</td>\n",
       "      <td>21625-2748</td>\n",
       "      <td>US</td>\n",
       "      <td>US/Eastern</td>\n",
       "      <td>KESN</td>\n",
       "      <td>2021-06-02 11:50:00</td>\n",
       "      <td>77.0</td>\n",
       "      <td>77.0</td>\n",
       "      <td>61.0</td>\n",
       "      <td>30.18</td>\n",
       "      <td>10.0</td>\n",
       "      <td>S</td>\n",
       "      <td>6.0</td>\n",
       "      <td>0.0</td>\n",
       "      <td>Mostly Cloudy</td>\n",
       "      <td>False</td>\n",
       "      <td>False</td>\n",
       "      <td>False</td>\n",
       "      <td>False</td>\n",
       "      <td>False</td>\n",
       "      <td>False</td>\n",
       "      <td>False</td>\n",
       "      <td>False</td>\n",
       "      <td>False</td>\n",
       "      <td>False</td>\n",
       "      <td>False</td>\n",
       "      <td>False</td>\n",
       "      <td>False</td>\n",
       "      <td>Day</td>\n",
       "      <td>Day</td>\n",
       "      <td>Day</td>\n",
       "      <td>Day</td>\n",
       "    </tr>\n",
       "  </tbody>\n",
       "</table>\n",
       "</div>"
      ],
      "text/plain": [
       "               ID   Source  Severity           Start_Time  \\\n",
       "383866    A-50550  Source2         2  2016-07-22 00:43:13   \n",
       "224258  A-6928273  Source1         2  2020-12-13 22:20:00   \n",
       "457461  A-5099449  Source1         2  2022-02-12 09:48:30   \n",
       "292345  A-6183635  Source1         2  2021-06-02 11:32:02   \n",
       "\n",
       "                   End_Time  Start_Lat   Start_Lng    End_Lat     End_Lng  \\\n",
       "383866  2016-07-22 01:43:13  34.024387 -117.559235        NaN         NaN   \n",
       "224258  2020-12-14 00:24:57  37.926251 -122.514609  37.928317 -122.515264   \n",
       "457461  2022-02-12 13:32:30  34.172085 -118.532134  34.173577 -118.548732   \n",
       "292345  2021-06-02 14:40:00  38.891627  -76.061654  38.868789  -76.061206   \n",
       "\n",
       "        Distance(mi)                                        Description  \\\n",
       "383866         0.000  Accident on CA-60 Westbound at Exits 40 41 41A...   \n",
       "224258         0.147            NB 101 JNO TAM. WHI FORD MUST - BLKG #2   \n",
       "457461         0.954  Slow traffic on Ventura Fwy W - US-101 N from ...   \n",
       "292345         1.578  Stationary traffic on US-50 E from MD-404/Quee...   \n",
       "\n",
       "               Street          City          County State     Zipcode Country  \\\n",
       "383866   Pomona Fwy W       Ontario  San Bernardino    CA       91761      US   \n",
       "224258    Redwood Hwy  Corte Madera           Marin    CA       94925      US   \n",
       "457461   Burbank Blvd       Tarzana     Los Angeles    CA       91356      US   \n",
       "292345     Ocean Gtwy       Cordova          Talbot    MD  21625-2748      US   \n",
       "\n",
       "          Timezone Airport_Code    Weather_Timestamp  Temperature(F)  \\\n",
       "383866  US/Pacific         KONT  2016-07-22 00:53:00            78.1   \n",
       "224258  US/Pacific         KDVO  2020-12-13 08:50:00            50.0   \n",
       "457461  US/Pacific         KVNY  2022-02-12 09:51:00            80.0   \n",
       "292345  US/Eastern         KESN  2021-06-02 11:50:00            77.0   \n",
       "\n",
       "        Wind_Chill(F)  Humidity(%)  Pressure(in)  Visibility(mi)  \\\n",
       "383866            NaN         37.0         29.88            10.0   \n",
       "224258           50.0        100.0         30.07             3.0   \n",
       "457461           80.0         13.0         29.29            10.0   \n",
       "292345           77.0         61.0         30.18            10.0   \n",
       "\n",
       "       Wind_Direction  Wind_Speed(mph)  Precipitation(in) Weather_Condition  \\\n",
       "383866           Calm              NaN                NaN             Clear   \n",
       "224258            VAR              6.0                0.0            Cloudy   \n",
       "457461              N              9.0                0.0              Fair   \n",
       "292345              S              6.0                0.0     Mostly Cloudy   \n",
       "\n",
       "        Amenity   Bump  Crossing  Give_Way  Junction  No_Exit  Railway  \\\n",
       "383866    False  False     False     False     False    False    False   \n",
       "224258     True  False     False     False     False    False    False   \n",
       "457461    False  False     False     False      True    False    False   \n",
       "292345    False  False     False     False     False    False    False   \n",
       "\n",
       "        Roundabout  Station   Stop  Traffic_Calming  Traffic_Signal  \\\n",
       "383866       False    False  False            False           False   \n",
       "224258       False    False  False            False           False   \n",
       "457461       False    False  False            False           False   \n",
       "292345       False    False  False            False           False   \n",
       "\n",
       "        Turning_Loop Sunrise_Sunset Civil_Twilight Nautical_Twilight  \\\n",
       "383866         False          Night          Night             Night   \n",
       "224258         False          Night          Night             Night   \n",
       "457461         False            Day            Day               Day   \n",
       "292345         False            Day            Day               Day   \n",
       "\n",
       "       Astronomical_Twilight  \n",
       "383866                 Night  \n",
       "224258                 Night  \n",
       "457461                   Day  \n",
       "292345                   Day  "
      ]
     },
     "execution_count": 96,
     "metadata": {},
     "output_type": "execute_result"
    }
   ],
   "source": [
    "# examine 4 random samples from the data\n",
    "df.sample(4)"
   ]
  },
  {
   "cell_type": "markdown",
   "metadata": {},
   "source": [
    "## Features explanation\n",
    "There are __46__ features in our dataset, include:\n",
    "\n",
    "| # | Field Name | Description |\n",
    "|---|------------|-------------|\n",
    "| 1 | `ID` | A unique identifier of the accident record. |\n",
    "| 2 | `Source` | Source of raw accident data (collected from two different sources). |\n",
    "| 3 | `Severity` | The severity of the accident on a scale of 1 to 4. |\n",
    "| 4 | `Start_Time` | Start time of the accident in the local time zone. |\n",
    "| 5 | `End_Time` | Dismissal time when the impact on traffic flow ends. |\n",
    "| 6 | `Start_Lat` | Latitude in GPS coordinates of the start point. |\n",
    "| 7 | `Start_Lng` | Longitude in GPS coordinates of the start point. |\n",
    "| 8 | `End_Lat` | Latitude (end point). |\n",
    "| 9 | `End_Lng` | Longitude (end point). |\n",
    "| 10 | `Distance(mi)` | Length of the road affected by the accident (in miles). |\n",
    "| 11 | `Description` | Human-provided description of the accident. |\n",
    "| 12 | `Street` | Street name in the address field. |\n",
    "| 13 | `City` | City name. |\n",
    "| 14 | `County` | Country name. |\n",
    "| 15 | `State` | State name. |\n",
    "| 16 | `Zipcode` | Zipcode. |\n",
    "| 17 | `Country` | Country in the address field. |\n",
    "| 18 | `Timezone` | Timezone based on the location of the accident. |\n",
    "| 19 | `Airport_Code` | Airport-based weather station closest to the location. |\n",
    "| 20 | `Weather_Timestamp` | Timestamp of weather observation record. |\n",
    "| 21 | `Temperature(F)` | Temperature in Fahrenheit. |\n",
    "| 22 | `Wind_Chill(F)` | Wind chill in Fahrenheit. |\n",
    "| 23 | `Humidity(%)` | Humidity in percentage. |\n",
    "| 24 | `Pressure(in)` | Air pressure in inches. |\n",
    "| 25 | `Visibility(mi)` | Visibility in miles. |\n",
    "| 26 | `Wind_Direction` | Wind direction. |\n",
    "| 27 | `Wind_Speed(mph)` | Wind speed in miles per hour. |\n",
    "| 28 | `Precipitation(in)` | Precipitation amount in inches. |\n",
    "| 29 | `Weather_Condition` | Weather condition (rain, snow, etc.). |\n",
    "| 30 | `Amenity` | Amenity in a nearby location (True/False). |\n",
    "| 31 | `Bump` | Speed bump or hump in a nearby location (True/False). |\n",
    "| 32 | `Crossing` | Crossing in a nearby location (True/False). |\n",
    "| 33 | `Give_Way` | Give way in a nearby location (True/False). |\n",
    "| 34 | `Junction` | Junction in a nearby location (True/False). |\n",
    "| 35 | `No_Exit` | No exit in a nearby location (True/False). |\n",
    "| 36 | `Railway` | Railway in a nearby location (True/False). |\n",
    "| 37 | `Roundabout` | Roundabout in a nearby location (True/False). |\n",
    "| 38 | `Station` | Station in a nearby location (True/False). |\n",
    "| 39 | `Stop` | Stop in a nearby location (True/False). |\n",
    "| 40 | `Traffic_Calming` | Traffic calming in a nearby location (True/False). |\n",
    "| 41 | `Traffic_Signal` | Traffic signal in a nearby location (True/False). |\n",
    "| 42 | `Turning_Loop` | Turning loop in a nearby location (True/False). |\n",
    "| 43 | `Sunrise_Sunset` | Based on sunrise/sunset (day/night). |\n",
    "| 44 | `Civil_Twilight` | Based on civil twilight (day/night). |\n",
    "| 45 | `Nautical_Twilight` | Based on nautical twilight (day/night). |\n",
    "| 46 | `Astronomical_Twilight` | Based on astronomical twilight (day/night). |\n"
   ]
  },
  {
   "cell_type": "markdown",
   "metadata": {},
   "source": [
    "## Data Cleaning\n",
    "---\n",
    "Our dataset contains a very large amount of information by providing many features. However, some fields may be too complex or not necessary to our analysis so we will consider dropping them from our data, these fields are:\n",
    "\n",
    "1. `ID`: We will replace the this field with the simple numeric index to reduce memory consumption.\n",
    "\n",
    "2. `Source`: This field do not provide substantial information for our analysis.\n",
    "\n",
    "3. `End_Lat` and `End_Lng`: Because normally we only need to know where the accidents happen, so the starting coordinates (`Start_Lat` and `Start_Lng`) are enough. However, we can consider using those ending points of the accidents in some other problems.\n",
    "\n",
    "4. `Airport_Code`: Specifying the nearest airport code is unnecessary in our problem.\n",
    "\n",
    "5. `Country`: As mentioned earlier, all the data is related to the USA, so this field does not add value.\n",
    "\n",
    "6. `Weather_Timestamp`: This field is not neccessary since we have `Start_Time` and `End_Time`.\n",
    "\n",
    "7. `Civil_Twilight`, `Nautical_Twilight`, and `Astronomical_Twilight`: These fields may not be directly relevant to our analysis, since we can derive the period of day (_Day_ and _Night_ ) directly from the time data (`Start_Time` and `End_Time`) and our analysis mostly focus on normal people.\n",
    "\n",
    "8. `Timezone`: This information can be derived from other relevant fields.\n",
    "\n",
    "9. `Description`: This field may be neccessary in some cases (to get a quick insight about the accident), but the field is provided by human natural language which is not easy to be processed and this task is also out of our scope in this project.\n",
    "\n",
    "\n",
    "By removing these fields, our dataset will be simplified, making it more focused and efficient for our analysis."
   ]
  },
  {
   "cell_type": "code",
   "execution_count": 97,
   "metadata": {},
   "outputs": [],
   "source": [
    "# Specify the names of the columns to be dropped\n",
    "cols2drop = ['End_Lat', 'End_Lng', 'ID', 'Source', 'Airport_Code', 'Country', 'Weather_Timestamp', 'Civil_Twilight', 'Nautical_Twilight', 'Astronomical_Twilight', 'Timezone', 'Description']\n",
    "\n",
    "# Use the drop() method to remove the specified columns\n",
    "df.drop(columns=cols2drop, inplace=True)"
   ]
  },
  {
   "cell_type": "markdown",
   "metadata": {},
   "source": [
    "**Quick overview of the Data:**\n",
    "\n",
    "In the following, a function is defined to show detailed overview of our data, and this function can be reused. "
   ]
  },
  {
   "cell_type": "code",
   "execution_count": 98,
   "metadata": {},
   "outputs": [
    {
     "name": "stdout",
     "output_type": "stream",
     "text": [
      "'----------------------------------------------------------------------'\n",
      "The Dataset Contains, Rows: 500,000 & Columns: 34\n",
      "'----------------------------------------------------------------------'\n"
     ]
    },
    {
     "name": "stdout",
     "output_type": "stream",
     "text": [
      "                  DataType  Missing Values  Missing %  Unique Values\n",
      "Severity             int64               0       0.00              4\n",
      "Start_Time          object               0       0.00         487027\n",
      "End_Time            object               0       0.00         493821\n",
      "Start_Lat          float64               0       0.00         368965\n",
      "Start_Lng          float64               0       0.00         370195\n",
      "Distance(mi)       float64               0       0.00          10627\n",
      "Street              object             691       0.14          88272\n",
      "City                object              19       0.00           9488\n",
      "County              object               0       0.00           1606\n",
      "State               object               0       0.00             49\n",
      "Zipcode             object             116       0.02         127804\n",
      "Temperature(F)     float64           10466       2.09            712\n",
      "Wind_Chill(F)      float64          129017      25.80            797\n",
      "Humidity(%)        float64           11130       2.23            100\n",
      "Pressure(in)       float64            8928       1.79            980\n",
      "Visibility(mi)     float64           11291       2.26             65\n",
      "Wind_Direction      object           11197       2.24             24\n",
      "Wind_Speed(mph)    float64           36987       7.40             95\n",
      "Precipitation(in)  float64          142616      28.52            175\n",
      "Weather_Condition   object           11101       2.22            108\n",
      "Amenity               bool               0       0.00              2\n",
      "Bump                  bool               0       0.00              2\n",
      "Crossing              bool               0       0.00              2\n",
      "Give_Way              bool               0       0.00              2\n",
      "Junction              bool               0       0.00              2\n",
      "No_Exit               bool               0       0.00              2\n",
      "Railway               bool               0       0.00              2\n",
      "Roundabout            bool               0       0.00              2\n",
      "Station               bool               0       0.00              2\n",
      "Stop                  bool               0       0.00              2\n",
      "Traffic_Calming       bool               0       0.00              2\n",
      "Traffic_Signal        bool               0       0.00              2\n",
      "Turning_Loop          bool               0       0.00              1\n",
      "Sunrise_Sunset      object            1483       0.30              2\n",
      "'----------------------------------------------------------------------'\n"
     ]
    }
   ],
   "source": [
    "def display_data_profile(df):\n",
    "    pprint('-' * 70)\n",
    "    print('The Dataset Contains, Rows: {:,d} & Columns: {}'.format(df.shape[0], df.shape[1]))\n",
    "    pprint('-' * 70)\n",
    "\n",
    "    data_profile = pd.DataFrame(df.dtypes.rename('DataType'))\n",
    "    data_profile['Missing Values'] = df.isnull().sum()\n",
    "    data_profile['Missing %'] = (df.isnull().mean() * 100).round(2)\n",
    "    data_profile['Unique Values'] = df.nunique()\n",
    "\n",
    "    pprint(data_profile)\n",
    "    pprint('-' * 70)\n",
    "\n",
    "display_data_profile(df)\n"
   ]
  },
  {
   "cell_type": "markdown",
   "metadata": {},
   "source": [
    "- The data types for each column seem generally appropriate for their respective contents.\n",
    "- However, it's essential to note that the `Start_Time` and `End_Time` columns are currently of type `object`, which typically indicates a generic string\n",
    "- For time-related data, it is often beneficial to convert these columns to `datetime` format to facilitate temporal analysis."
   ]
  },
  {
   "cell_type": "code",
   "execution_count": 99,
   "metadata": {},
   "outputs": [],
   "source": [
    "# convert the Start_Time and End_Time attributes to datetime\n",
    "df[\"Start_Time\"] = pd.to_datetime(df[\"Start_Time\"], format=\"mixed\", errors='coerce', dayfirst=True)\n",
    "df[\"End_Time\"] = pd.to_datetime(df[\"End_Time\"], format=\"mixed\", errors='coerce', dayfirst=True)\n",
    "\n",
    "# Extract year, month, weekday and day\n",
    "df[\"Year\"] = df[\"Start_Time\"].dt.year\n",
    "df[\"Month\"] = df[\"Start_Time\"].dt.month\n",
    "df[\"Weekday\"] = df[\"Start_Time\"].dt.weekday\n",
    "df[\"Day\"] = df[\"Start_Time\"].dt.day\n",
    "df[\"Hour\"] = df[\"Start_Time\"].dt.hour"
   ]
  },
  {
   "cell_type": "markdown",
   "metadata": {},
   "source": [
    "**Descriptive Statistics Overview**"
   ]
  },
  {
   "cell_type": "code",
   "execution_count": 100,
   "metadata": {},
   "outputs": [
    {
     "data": {
      "text/html": [
       "<div>\n",
       "<style scoped>\n",
       "    .dataframe tbody tr th:only-of-type {\n",
       "        vertical-align: middle;\n",
       "    }\n",
       "\n",
       "    .dataframe tbody tr th {\n",
       "        vertical-align: top;\n",
       "    }\n",
       "\n",
       "    .dataframe thead th {\n",
       "        text-align: right;\n",
       "    }\n",
       "</style>\n",
       "<table border=\"1\" class=\"dataframe\">\n",
       "  <thead>\n",
       "    <tr style=\"text-align: right;\">\n",
       "      <th></th>\n",
       "      <th>count</th>\n",
       "      <th>mean</th>\n",
       "      <th>min</th>\n",
       "      <th>25%</th>\n",
       "      <th>50%</th>\n",
       "      <th>75%</th>\n",
       "      <th>max</th>\n",
       "      <th>std</th>\n",
       "    </tr>\n",
       "  </thead>\n",
       "  <tbody>\n",
       "    <tr>\n",
       "      <th>Severity</th>\n",
       "      <td>500000.0</td>\n",
       "      <td>2.212748</td>\n",
       "      <td>1.0</td>\n",
       "      <td>2.0</td>\n",
       "      <td>2.0</td>\n",
       "      <td>2.0</td>\n",
       "      <td>4.0</td>\n",
       "      <td>0.486661</td>\n",
       "    </tr>\n",
       "    <tr>\n",
       "      <th>Start_Time</th>\n",
       "      <td>500000</td>\n",
       "      <td>2020-06-03 12:09:29.692724480</td>\n",
       "      <td>2016-01-14 20:18:33</td>\n",
       "      <td>2018-11-23 06:47:16.249999872</td>\n",
       "      <td>2020-11-11 17:30:39</td>\n",
       "      <td>2022-01-18 16:04:00</td>\n",
       "      <td>2023-03-31 22:46:13</td>\n",
       "      <td>NaN</td>\n",
       "    </tr>\n",
       "    <tr>\n",
       "      <th>End_Time</th>\n",
       "      <td>500000</td>\n",
       "      <td>2020-06-03 19:11:26.484368384</td>\n",
       "      <td>2016-02-08 06:37:08</td>\n",
       "      <td>2018-11-23 07:50:31.750000128</td>\n",
       "      <td>2020-11-11 22:44:21.500000</td>\n",
       "      <td>2022-01-19 08:01:51.750000128</td>\n",
       "      <td>2023-03-31 23:58:00</td>\n",
       "      <td>NaN</td>\n",
       "    </tr>\n",
       "    <tr>\n",
       "      <th>Start_Lat</th>\n",
       "      <td>500000.0</td>\n",
       "      <td>36.206421</td>\n",
       "      <td>24.562117</td>\n",
       "      <td>33.416823</td>\n",
       "      <td>35.832147</td>\n",
       "      <td>40.082443</td>\n",
       "      <td>48.999569</td>\n",
       "      <td>5.071411</td>\n",
       "    </tr>\n",
       "    <tr>\n",
       "      <th>Start_Lng</th>\n",
       "      <td>500000.0</td>\n",
       "      <td>-94.736583</td>\n",
       "      <td>-124.49742</td>\n",
       "      <td>-117.233047</td>\n",
       "      <td>-87.794365</td>\n",
       "      <td>-80.359601</td>\n",
       "      <td>-67.48413</td>\n",
       "      <td>17.405761</td>\n",
       "    </tr>\n",
       "    <tr>\n",
       "      <th>Distance(mi)</th>\n",
       "      <td>500000.0</td>\n",
       "      <td>0.564317</td>\n",
       "      <td>0.0</td>\n",
       "      <td>0.0</td>\n",
       "      <td>0.029</td>\n",
       "      <td>0.465</td>\n",
       "      <td>193.479996</td>\n",
       "      <td>1.774872</td>\n",
       "    </tr>\n",
       "    <tr>\n",
       "      <th>Temperature(F)</th>\n",
       "      <td>489534.0</td>\n",
       "      <td>61.646254</td>\n",
       "      <td>-77.8</td>\n",
       "      <td>49.0</td>\n",
       "      <td>64.0</td>\n",
       "      <td>76.0</td>\n",
       "      <td>207.0</td>\n",
       "      <td>19.000133</td>\n",
       "    </tr>\n",
       "    <tr>\n",
       "      <th>Wind_Chill(F)</th>\n",
       "      <td>370983.0</td>\n",
       "      <td>58.229028</td>\n",
       "      <td>-53.2</td>\n",
       "      <td>43.0</td>\n",
       "      <td>62.0</td>\n",
       "      <td>75.0</td>\n",
       "      <td>207.0</td>\n",
       "      <td>22.352246</td>\n",
       "    </tr>\n",
       "    <tr>\n",
       "      <th>Humidity(%)</th>\n",
       "      <td>488870.0</td>\n",
       "      <td>64.834921</td>\n",
       "      <td>1.0</td>\n",
       "      <td>48.0</td>\n",
       "      <td>67.0</td>\n",
       "      <td>84.0</td>\n",
       "      <td>100.0</td>\n",
       "      <td>22.826158</td>\n",
       "    </tr>\n",
       "    <tr>\n",
       "      <th>Pressure(in)</th>\n",
       "      <td>491072.0</td>\n",
       "      <td>29.536621</td>\n",
       "      <td>0.12</td>\n",
       "      <td>29.37</td>\n",
       "      <td>29.86</td>\n",
       "      <td>30.03</td>\n",
       "      <td>38.44</td>\n",
       "      <td>1.008666</td>\n",
       "    </tr>\n",
       "    <tr>\n",
       "      <th>Visibility(mi)</th>\n",
       "      <td>488709.0</td>\n",
       "      <td>9.09154</td>\n",
       "      <td>0.0</td>\n",
       "      <td>10.0</td>\n",
       "      <td>10.0</td>\n",
       "      <td>10.0</td>\n",
       "      <td>130.0</td>\n",
       "      <td>2.708083</td>\n",
       "    </tr>\n",
       "    <tr>\n",
       "      <th>Wind_Speed(mph)</th>\n",
       "      <td>463013.0</td>\n",
       "      <td>7.681347</td>\n",
       "      <td>0.0</td>\n",
       "      <td>4.6</td>\n",
       "      <td>7.0</td>\n",
       "      <td>10.4</td>\n",
       "      <td>822.8</td>\n",
       "      <td>5.431361</td>\n",
       "    </tr>\n",
       "    <tr>\n",
       "      <th>Precipitation(in)</th>\n",
       "      <td>357384.0</td>\n",
       "      <td>0.008289</td>\n",
       "      <td>0.0</td>\n",
       "      <td>0.0</td>\n",
       "      <td>0.0</td>\n",
       "      <td>0.0</td>\n",
       "      <td>10.13</td>\n",
       "      <td>0.101865</td>\n",
       "    </tr>\n",
       "    <tr>\n",
       "      <th>Year</th>\n",
       "      <td>500000.0</td>\n",
       "      <td>2019.906596</td>\n",
       "      <td>2016.0</td>\n",
       "      <td>2018.0</td>\n",
       "      <td>2020.0</td>\n",
       "      <td>2022.0</td>\n",
       "      <td>2023.0</td>\n",
       "      <td>1.913944</td>\n",
       "    </tr>\n",
       "    <tr>\n",
       "      <th>Month</th>\n",
       "      <td>500000.0</td>\n",
       "      <td>6.702528</td>\n",
       "      <td>1.0</td>\n",
       "      <td>3.0</td>\n",
       "      <td>7.0</td>\n",
       "      <td>10.0</td>\n",
       "      <td>12.0</td>\n",
       "      <td>3.639946</td>\n",
       "    </tr>\n",
       "    <tr>\n",
       "      <th>Weekday</th>\n",
       "      <td>500000.0</td>\n",
       "      <td>2.594916</td>\n",
       "      <td>0.0</td>\n",
       "      <td>1.0</td>\n",
       "      <td>3.0</td>\n",
       "      <td>4.0</td>\n",
       "      <td>6.0</td>\n",
       "      <td>1.804955</td>\n",
       "    </tr>\n",
       "    <tr>\n",
       "      <th>Day</th>\n",
       "      <td>500000.0</td>\n",
       "      <td>15.742054</td>\n",
       "      <td>1.0</td>\n",
       "      <td>8.0</td>\n",
       "      <td>16.0</td>\n",
       "      <td>23.0</td>\n",
       "      <td>31.0</td>\n",
       "      <td>8.674241</td>\n",
       "    </tr>\n",
       "    <tr>\n",
       "      <th>Hour</th>\n",
       "      <td>500000.0</td>\n",
       "      <td>12.32132</td>\n",
       "      <td>0.0</td>\n",
       "      <td>8.0</td>\n",
       "      <td>13.0</td>\n",
       "      <td>17.0</td>\n",
       "      <td>23.0</td>\n",
       "      <td>5.471098</td>\n",
       "    </tr>\n",
       "  </tbody>\n",
       "</table>\n",
       "</div>"
      ],
      "text/plain": [
       "                      count                           mean  \\\n",
       "Severity           500000.0                       2.212748   \n",
       "Start_Time           500000  2020-06-03 12:09:29.692724480   \n",
       "End_Time             500000  2020-06-03 19:11:26.484368384   \n",
       "Start_Lat          500000.0                      36.206421   \n",
       "Start_Lng          500000.0                     -94.736583   \n",
       "Distance(mi)       500000.0                       0.564317   \n",
       "Temperature(F)     489534.0                      61.646254   \n",
       "Wind_Chill(F)      370983.0                      58.229028   \n",
       "Humidity(%)        488870.0                      64.834921   \n",
       "Pressure(in)       491072.0                      29.536621   \n",
       "Visibility(mi)     488709.0                        9.09154   \n",
       "Wind_Speed(mph)    463013.0                       7.681347   \n",
       "Precipitation(in)  357384.0                       0.008289   \n",
       "Year               500000.0                    2019.906596   \n",
       "Month              500000.0                       6.702528   \n",
       "Weekday            500000.0                       2.594916   \n",
       "Day                500000.0                      15.742054   \n",
       "Hour               500000.0                       12.32132   \n",
       "\n",
       "                                   min                            25%  \\\n",
       "Severity                           1.0                            2.0   \n",
       "Start_Time         2016-01-14 20:18:33  2018-11-23 06:47:16.249999872   \n",
       "End_Time           2016-02-08 06:37:08  2018-11-23 07:50:31.750000128   \n",
       "Start_Lat                    24.562117                      33.416823   \n",
       "Start_Lng                   -124.49742                    -117.233047   \n",
       "Distance(mi)                       0.0                            0.0   \n",
       "Temperature(F)                   -77.8                           49.0   \n",
       "Wind_Chill(F)                    -53.2                           43.0   \n",
       "Humidity(%)                        1.0                           48.0   \n",
       "Pressure(in)                      0.12                          29.37   \n",
       "Visibility(mi)                     0.0                           10.0   \n",
       "Wind_Speed(mph)                    0.0                            4.6   \n",
       "Precipitation(in)                  0.0                            0.0   \n",
       "Year                            2016.0                         2018.0   \n",
       "Month                              1.0                            3.0   \n",
       "Weekday                            0.0                            1.0   \n",
       "Day                                1.0                            8.0   \n",
       "Hour                               0.0                            8.0   \n",
       "\n",
       "                                          50%                            75%  \\\n",
       "Severity                                  2.0                            2.0   \n",
       "Start_Time                2020-11-11 17:30:39            2022-01-18 16:04:00   \n",
       "End_Time           2020-11-11 22:44:21.500000  2022-01-19 08:01:51.750000128   \n",
       "Start_Lat                           35.832147                      40.082443   \n",
       "Start_Lng                          -87.794365                     -80.359601   \n",
       "Distance(mi)                            0.029                          0.465   \n",
       "Temperature(F)                           64.0                           76.0   \n",
       "Wind_Chill(F)                            62.0                           75.0   \n",
       "Humidity(%)                              67.0                           84.0   \n",
       "Pressure(in)                            29.86                          30.03   \n",
       "Visibility(mi)                           10.0                           10.0   \n",
       "Wind_Speed(mph)                           7.0                           10.4   \n",
       "Precipitation(in)                         0.0                            0.0   \n",
       "Year                                   2020.0                         2022.0   \n",
       "Month                                     7.0                           10.0   \n",
       "Weekday                                   3.0                            4.0   \n",
       "Day                                      16.0                           23.0   \n",
       "Hour                                     13.0                           17.0   \n",
       "\n",
       "                                   max        std  \n",
       "Severity                           4.0   0.486661  \n",
       "Start_Time         2023-03-31 22:46:13        NaN  \n",
       "End_Time           2023-03-31 23:58:00        NaN  \n",
       "Start_Lat                    48.999569   5.071411  \n",
       "Start_Lng                    -67.48413  17.405761  \n",
       "Distance(mi)                193.479996   1.774872  \n",
       "Temperature(F)                   207.0  19.000133  \n",
       "Wind_Chill(F)                    207.0  22.352246  \n",
       "Humidity(%)                      100.0  22.826158  \n",
       "Pressure(in)                     38.44   1.008666  \n",
       "Visibility(mi)                   130.0   2.708083  \n",
       "Wind_Speed(mph)                  822.8   5.431361  \n",
       "Precipitation(in)                10.13   0.101865  \n",
       "Year                            2023.0   1.913944  \n",
       "Month                             12.0   3.639946  \n",
       "Weekday                            6.0   1.804955  \n",
       "Day                               31.0   8.674241  \n",
       "Hour                              23.0   5.471098  "
      ]
     },
     "execution_count": 100,
     "metadata": {},
     "output_type": "execute_result"
    }
   ],
   "source": [
    "df.describe().T"
   ]
  },
  {
   "cell_type": "code",
   "execution_count": 101,
   "metadata": {},
   "outputs": [
    {
     "data": {
      "text/html": [
       "<div>\n",
       "<style scoped>\n",
       "    .dataframe tbody tr th:only-of-type {\n",
       "        vertical-align: middle;\n",
       "    }\n",
       "\n",
       "    .dataframe tbody tr th {\n",
       "        vertical-align: top;\n",
       "    }\n",
       "\n",
       "    .dataframe thead th {\n",
       "        text-align: right;\n",
       "    }\n",
       "</style>\n",
       "<table border=\"1\" class=\"dataframe\">\n",
       "  <thead>\n",
       "    <tr style=\"text-align: right;\">\n",
       "      <th></th>\n",
       "      <th>Street</th>\n",
       "      <th>City</th>\n",
       "      <th>County</th>\n",
       "      <th>State</th>\n",
       "      <th>Zipcode</th>\n",
       "      <th>Wind_Direction</th>\n",
       "      <th>Weather_Condition</th>\n",
       "      <th>Sunrise_Sunset</th>\n",
       "    </tr>\n",
       "  </thead>\n",
       "  <tbody>\n",
       "    <tr>\n",
       "      <th>count</th>\n",
       "      <td>499309</td>\n",
       "      <td>499981</td>\n",
       "      <td>500000</td>\n",
       "      <td>500000</td>\n",
       "      <td>499884</td>\n",
       "      <td>488803</td>\n",
       "      <td>488899</td>\n",
       "      <td>498517</td>\n",
       "    </tr>\n",
       "    <tr>\n",
       "      <th>unique</th>\n",
       "      <td>88272</td>\n",
       "      <td>9488</td>\n",
       "      <td>1606</td>\n",
       "      <td>49</td>\n",
       "      <td>127804</td>\n",
       "      <td>24</td>\n",
       "      <td>108</td>\n",
       "      <td>2</td>\n",
       "    </tr>\n",
       "    <tr>\n",
       "      <th>top</th>\n",
       "      <td>I-95 N</td>\n",
       "      <td>Miami</td>\n",
       "      <td>Los Angeles</td>\n",
       "      <td>CA</td>\n",
       "      <td>91761</td>\n",
       "      <td>CALM</td>\n",
       "      <td>Fair</td>\n",
       "      <td>Day</td>\n",
       "    </tr>\n",
       "    <tr>\n",
       "      <th>freq</th>\n",
       "      <td>4973</td>\n",
       "      <td>12141</td>\n",
       "      <td>34247</td>\n",
       "      <td>113274</td>\n",
       "      <td>720</td>\n",
       "      <td>62259</td>\n",
       "      <td>166053</td>\n",
       "      <td>344967</td>\n",
       "    </tr>\n",
       "  </tbody>\n",
       "</table>\n",
       "</div>"
      ],
      "text/plain": [
       "        Street    City       County   State Zipcode Wind_Direction  \\\n",
       "count   499309  499981       500000  500000  499884         488803   \n",
       "unique   88272    9488         1606      49  127804             24   \n",
       "top     I-95 N   Miami  Los Angeles      CA   91761           CALM   \n",
       "freq      4973   12141        34247  113274     720          62259   \n",
       "\n",
       "       Weather_Condition Sunrise_Sunset  \n",
       "count             488899         498517  \n",
       "unique               108              2  \n",
       "top                 Fair            Day  \n",
       "freq              166053         344967  "
      ]
     },
     "execution_count": 101,
     "metadata": {},
     "output_type": "execute_result"
    }
   ],
   "source": [
    "df.describe(include=['object'])"
   ]
  },
  {
   "cell_type": "markdown",
   "metadata": {},
   "source": [
    "**Distribution of numerical features**"
   ]
  },
  {
   "cell_type": "code",
   "execution_count": 102,
   "metadata": {},
   "outputs": [
    {
     "data": {
      "text/plain": [
       "array([[<Axes: title={'center': 'Start_Lat'}>,\n",
       "        <Axes: title={'center': 'Start_Lng'}>,\n",
       "        <Axes: title={'center': 'Distance(mi)'}>],\n",
       "       [<Axes: title={'center': 'Temperature(F)'}>,\n",
       "        <Axes: title={'center': 'Wind_Chill(F)'}>,\n",
       "        <Axes: title={'center': 'Humidity(%)'}>],\n",
       "       [<Axes: title={'center': 'Pressure(in)'}>,\n",
       "        <Axes: title={'center': 'Visibility(mi)'}>,\n",
       "        <Axes: title={'center': 'Wind_Speed(mph)'}>],\n",
       "       [<Axes: title={'center': 'Precipitation(in)'}>, <Axes: >,\n",
       "        <Axes: >]], dtype=object)"
      ]
     },
     "execution_count": 102,
     "metadata": {},
     "output_type": "execute_result"
    },
    {
     "data": {
      "image/png": "[encoded data removed]",
      "text/plain": [
       "<Figure size 2000x1000 with 12 Axes>"
      ]
     },
     "metadata": {},
     "output_type": "display_data"
    }
   ],
   "source": [
    "df.select_dtypes('float').hist(figsize=(20,10))"
   ]
  },
  {
   "cell_type": "markdown",
   "metadata": {},
   "source": [
    "From these plots we can see:\n",
    "- **Distance (Length of Road Affected)**:\n",
    "    - Right-skewed distribution.\n",
    "    - Predominantly low values, indicating most accidents impact a relatively short stretch of road.\n",
    "- **Humidity**:\n",
    "    - Demonstrates substantial variability.\n",
    "- **Precipitation**:\n",
    "    - Right-skewed distribution.\n",
    "    - Most accidents involve minimal precipitation.\n",
    "- **Air Pressure**:\n",
    "    - Left-skewed distribution.\n",
    "    - Suggests accidents predominantly occur at lower altitudes, where air pressure is higher.\n",
    "- **Temperature**:\n",
    "    - Bell-shaped distribution.\n",
    "    - Average temperature centers around 50 degrees Fahrenheit.\n",
    "- **Wind Speed**:\n",
    "    - Right-skewed distribution.\n",
    "    - Implies most accidents occur under calm wind conditions."
   ]
  },
  {
   "cell_type": "markdown",
   "metadata": {},
   "source": [
    "**Distribution of bool features**"
   ]
  },
  {
   "cell_type": "code",
   "execution_count": 103,
   "metadata": {},
   "outputs": [
    {
     "data": {
      "text/plain": [
       "array([[<Axes: title={'center': 'Amenity'}>,\n",
       "        <Axes: title={'center': 'Bump'}>,\n",
       "        <Axes: title={'center': 'Crossing'}>,\n",
       "        <Axes: title={'center': 'Give_Way'}>],\n",
       "       [<Axes: title={'center': 'Junction'}>,\n",
       "        <Axes: title={'center': 'No_Exit'}>,\n",
       "        <Axes: title={'center': 'Railway'}>,\n",
       "        <Axes: title={'center': 'Roundabout'}>],\n",
       "       [<Axes: title={'center': 'Station'}>,\n",
       "        <Axes: title={'center': 'Stop'}>,\n",
       "        <Axes: title={'center': 'Traffic_Calming'}>,\n",
       "        <Axes: title={'center': 'Traffic_Signal'}>],\n",
       "       [<Axes: title={'center': 'Turning_Loop'}>, <Axes: >, <Axes: >,\n",
       "        <Axes: >]], dtype=object)"
      ]
     },
     "execution_count": 103,
     "metadata": {},
     "output_type": "execute_result"
    },
    {
     "data": {
      "image/png": "[encoded data removed]",
      "text/plain": [
       "<Figure size 2000x1000 with 16 Axes>"
      ]
     },
     "metadata": {},
     "output_type": "display_data"
    }
   ],
   "source": [
    "df.select_dtypes('bool').astype(int).hist(figsize=(20,10))"
   ]
  },
  {
   "cell_type": "markdown",
   "metadata": {},
   "source": [
    "The boolean variables denote Points of Interest (POI) in the dataset, indicating the presence or absence of features like `speed bumps` or `roundabouts`, etc.. Across all these features, the prevailing trend is a majority of `False` values, signifying the absence of these elements. Notably, the boolean features with the highest occurrences of `True` values are `Traffic Signal, Junction, and Crossing`"
   ]
  },
  {
   "cell_type": "markdown",
   "metadata": {},
   "source": [
    "**Distribution of Severity**"
   ]
  },
  {
   "cell_type": "code",
   "execution_count": 104,
   "metadata": {},
   "outputs": [
    {
     "name": "stdout",
     "output_type": "stream",
     "text": [
      "Severity\n",
      "1      4274\n",
      "2    398142\n",
      "3     84520\n",
      "4     13064\n",
      "Name: count, dtype: int64\n"
     ]
    },
    {
     "data": {
      "image/png": "[encoded data removed]",
      "text/plain": [
       "<Figure size 2000x1000 with 1 Axes>"
      ]
     },
     "metadata": {},
     "output_type": "display_data"
    }
   ],
   "source": [
    "print(df['Severity'].value_counts().sort_index())\n",
    "df['Severity'].value_counts().plot.pie(figsize=(20,10),autopct='%1.3f%%')"
   ]
  },
  {
   "cell_type": "markdown",
   "metadata": {},
   "source": [
    "According to the data documentation, the severity levels are measured by the amount of time that traffic is held up. 1 indicates the least impact on traffic (i.e., short delay as a result of the accident) and 4 indicates a significant impact on traffic (i.e., long delay)."
   ]
  },
  {
   "cell_type": "markdown",
   "metadata": {},
   "source": [
    "The following bar chart illustrates the percentage of missing values. This visualization provides a visual representation of the extent of missing data across different features."
   ]
  },
  {
   "cell_type": "code",
   "execution_count": 105,
   "metadata": {},
   "outputs": [
    {
     "data": {
      "text/plain": [
       "Text(0.5, 0, 'Missing Values In Percentage')"
      ]
     },
     "execution_count": 105,
     "metadata": {},
     "output_type": "execute_result"
    },
    {
     "data": {
      "image/png": "[encoded data removed]",
      "text/plain": [
       "<Figure size 640x480 with 1 Axes>"
      ]
     },
     "metadata": {},
     "output_type": "display_data"
    }
   ],
   "source": [
    "missing_percent = df.isnull().mean().sort_values (ascending = False) * 100\n",
    "missing_percent[missing_percent !=0].plot(kind='barh')\n",
    "plt.xlabel('Missing Values In Percentage')"
   ]
  },
  {
   "cell_type": "markdown",
   "metadata": {},
   "source": [
    "Given the vastness of our dataset, comprising `500.000` entries. As a result, excluding rows linked to columns with `less than 5%` missing data is unlikely to substantially affect our analysis. Hence, we can confidently discard data with less than 5% missing values. "
   ]
  },
  {
   "cell_type": "code",
   "execution_count": 106,
   "metadata": {},
   "outputs": [],
   "source": [
    "df.dropna(subset=['Visibility(mi)', 'Wind_Direction', 'Humidity(%)', 'Weather_Condition', 'Temperature(F)', 'Pressure(in)', 'Sunrise_Sunset', 'Street', 'Zipcode'], inplace=True)"
   ]
  },
  {
   "cell_type": "markdown",
   "metadata": {},
   "source": [
    "- The columns `Precipitation(in)`, `Wind_Chill(F)`, and `Wind_Speed(mph)` (28.52%, 25.8%, and 7.4% respectively) exhibit a high percentage of missing data.\n",
    "- If we were to remove these missing entries, it would result in a substantial loss of approximately 200,000 records\n",
    "- Consequently, we have decided to address this issue by imputing the missing values with the respective mean values of those fields."
   ]
  },
  {
   "cell_type": "code",
   "execution_count": 107,
   "metadata": {},
   "outputs": [],
   "source": [
    "columns = ['Precipitation(in)', 'Wind_Chill(F)', 'Wind_Speed(mph)']\n",
    "\n",
    "for c in columns:\n",
    "    df[c].fillna(df[c].mean(), inplace=True)"
   ]
  },
  {
   "cell_type": "markdown",
   "metadata": {},
   "source": [
    "Let's run the `display_data_profile()` on the modified data."
   ]
  },
  {
   "cell_type": "code",
   "execution_count": 108,
   "metadata": {},
   "outputs": [
    {
     "name": "stdout",
     "output_type": "stream",
     "text": [
      "'----------------------------------------------------------------------'\n",
      "The Dataset Contains, Rows: 480,659 & Columns: 39\n",
      "'----------------------------------------------------------------------'\n",
      "                         DataType  Missing Values  Missing %  Unique Values\n",
      "Severity                    int64               0        0.0              4\n",
      "Start_Time         datetime64[ns]               0        0.0         464042\n",
      "End_Time           datetime64[ns]               0        0.0         472961\n",
      "Start_Lat                 float64               0        0.0         355075\n",
      "Start_Lng                 float64               0        0.0         356246\n",
      "Distance(mi)              float64               0        0.0          10419\n",
      "Street                     object               0        0.0          85662\n",
      "City                       object               0        0.0           8921\n",
      "County                     object               0        0.0           1560\n",
      "State                      object               0        0.0             49\n",
      "Zipcode                    object               0        0.0         123668\n",
      "Temperature(F)            float64               0        0.0            709\n",
      "Wind_Chill(F)             float64               0        0.0            797\n",
      "Humidity(%)               float64               0        0.0            100\n",
      "Pressure(in)              float64               0        0.0            965\n",
      "Visibility(mi)            float64               0        0.0             61\n",
      "Wind_Direction             object               0        0.0             24\n",
      "Wind_Speed(mph)           float64               0        0.0             93\n",
      "Precipitation(in)         float64               0        0.0            170\n",
      "Weather_Condition          object               0        0.0            107\n",
      "Amenity                      bool               0        0.0              2\n",
      "Bump                         bool               0        0.0              2\n",
      "Crossing                     bool               0        0.0              2\n",
      "Give_Way                     bool               0        0.0              2\n",
      "Junction                     bool               0        0.0              2\n",
      "No_Exit                      bool               0        0.0              2\n",
      "Railway                      bool               0        0.0              2\n",
      "Roundabout                   bool               0        0.0              2\n",
      "Station                      bool               0        0.0              2\n",
      "Stop                         bool               0        0.0              2\n",
      "Traffic_Calming              bool               0        0.0              2\n",
      "Traffic_Signal               bool               0        0.0              2\n",
      "Turning_Loop                 bool               0        0.0              1\n",
      "Sunrise_Sunset             object               0        0.0              2\n",
      "Year                        int32               0        0.0              8\n",
      "Month                       int32               0        0.0             12\n",
      "Weekday                     int32               0        0.0              7\n",
      "Day                         int32               0        0.0             31\n",
      "Hour                        int32               0        0.0             24\n",
      "'----------------------------------------------------------------------'\n"
     ]
    }
   ],
   "source": [
    "display_data_profile(df)"
   ]
  },
  {
   "cell_type": "markdown",
   "metadata": {},
   "source": [
    "It's time to remove duplicate rows."
   ]
  },
  {
   "cell_type": "code",
   "execution_count": 109,
   "metadata": {},
   "outputs": [
    {
     "name": "stdout",
     "output_type": "stream",
     "text": [
      "Number of rows: 480659\n"
     ]
    },
    {
     "name": "stdout",
     "output_type": "stream",
     "text": [
      "Number of rows after dropping duplicates: 480090\n"
     ]
    }
   ],
   "source": [
    "print(\"Number of rows:\", len(df.index))\n",
    "df.drop_duplicates(inplace=True)\n",
    "print(\"Number of rows after dropping duplicates:\", len(df.index))"
   ]
  },
  {
   "cell_type": "markdown",
   "metadata": {},
   "source": [
    "In this phase of the analysis, we performed thorough data preprocessing and cleaning to enhance the quality of the dataset. \n",
    "\n",
    "With the dataset now well-prepared, we are poised to transition to the Exploratory Data Analysis (EDA) phase, where we will delve deeper into the insights and patterns within the data."
   ]
  },
  {
   "cell_type": "markdown",
   "metadata": {},
   "source": [
    "## Exploring Accidents: A Deep Dive into Data Insights (Raise questions that need answering)\n",
    "---"
   ]
  },
  {
   "cell_type": "markdown",
   "metadata": {},
   "source": [
    "### Question 1:"
   ]
  },
  {
   "cell_type": "markdown",
   "metadata": {},
   "source": [
    "#### The purpose of the question"
   ]
  },
  {
   "cell_type": "markdown",
   "metadata": {},
   "source": [
    "#### How to solve the question"
   ]
  },
  {
   "cell_type": "markdown",
   "metadata": {},
   "source": [
    "#### Pre-processing"
   ]
  },
  {
   "cell_type": "markdown",
   "metadata": {},
   "source": [
    "#### Exploratory Analysis and Visualization"
   ]
  },
  {
   "cell_type": "markdown",
   "metadata": {},
   "source": [
    "#### Answer the question"
   ]
  },
  {
   "cell_type": "markdown",
   "metadata": {},
   "source": [
    "### Question 2:"
   ]
  },
  {
   "cell_type": "markdown",
   "metadata": {},
   "source": [
    "#### The purpose of the question"
   ]
  },
  {
   "cell_type": "markdown",
   "metadata": {},
   "source": [
    "#### How to solve the question"
   ]
  },
  {
   "cell_type": "markdown",
   "metadata": {},
   "source": [
    "#### Pre-processing"
   ]
  },
  {
   "cell_type": "markdown",
   "metadata": {},
   "source": [
    "#### Exploratory Analysis and Visualization"
   ]
  },
  {
   "cell_type": "markdown",
   "metadata": {},
   "source": [
    "#### Answer the question"
   ]
  },
  {
   "cell_type": "markdown",
   "metadata": {},
   "source": [
    "### Question 3:"
   ]
  },
  {
   "cell_type": "markdown",
   "metadata": {},
   "source": [
    "#### The purpose of the question"
   ]
  },
  {
   "cell_type": "markdown",
   "metadata": {},
   "source": [
    "#### How to solve the question"
   ]
  },
  {
   "cell_type": "markdown",
   "metadata": {},
   "source": [
    "#### Pre-processing"
   ]
  },
  {
   "cell_type": "markdown",
   "metadata": {},
   "source": [
    "#### Exploratory Analysis and Visualization"
   ]
  },
  {
   "cell_type": "markdown",
   "metadata": {},
   "source": [
    "#### Answer the question"
   ]
  },
  {
   "cell_type": "markdown",
   "metadata": {},
   "source": [
    "### Question 4:"
   ]
  },
  {
   "cell_type": "markdown",
   "metadata": {},
   "source": [
    "#### The purpose of the question"
   ]
  },
  {
   "cell_type": "markdown",
   "metadata": {},
   "source": [
    "#### How to solve the question"
   ]
  },
  {
   "cell_type": "markdown",
   "metadata": {},
   "source": [
    "#### Pre-processing"
   ]
  },
  {
   "cell_type": "markdown",
   "metadata": {},
   "source": [
    "#### Exploratory Analysis and Visualization"
   ]
  },
  {
   "cell_type": "markdown",
   "metadata": {},
   "source": [
    "#### Answer the question"
   ]
  },
  {
   "cell_type": "markdown",
   "metadata": {},
   "source": [
    "## Reflection"
   ]
  },
  {
   "cell_type": "markdown",
   "metadata": {},
   "source": [
    "## References"
   ]
  },
  {
   "cell_type": "markdown",
   "metadata": {},
   "source": [
    "* https://www.kaggle.com/datasets/sobhanmoosavi/us-accidents\n",
    "  \n",
    "* https://www.kaggle.com/code/yasirkhan1811/us-accidents-data-analysis-2016-2023\n",
    "  \n",
    "* Moosavi, Sobhan, Mohammad Hossein Samavatian, Srinivasan Parthasarathy, and Rajiv Ramnath. [“A Countrywide Traffic Accident Dataset.”](https://arxiv.org/abs/1906.05409), 2019.\n",
    "\n",
    "* Moosavi, Sobhan, Mohammad Hossein Samavatian, Srinivasan Parthasarathy, Radu Teodorescu, and Rajiv Ramnath. [\"Accident Risk Prediction based on Heterogeneous Sparse Data: New Dataset and Insights.\"](https://arxiv.org/abs/1909.09638) In proceedings of the 27th ACM SIGSPATIAL International Conference on Advances in Geographic Information Systems, ACM, 2019."
   ]
  }
 ],
 "metadata": {
  "kernelspec": {
   "display_name": "Python 3 (ipykernel)",
   "language": "python",
   "name": "python3"
  },
  "language_info": {
   "codemirror_mode": {
    "name": "ipython",
    "version": 3
   },
   "file_extension": ".py",
   "mimetype": "text/x-python",
   "name": "python",
   "nbconvert_exporter": "python",
   "pygments_lexer": "ipython3",
   "version": "3.10.8"
  }
 },
 "nbformat": 4,
 "nbformat_minor": 4
}
