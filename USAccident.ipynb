{
 "cells": [
  {
   "cell_type": "markdown",
   "metadata": {},
   "source": [
    "# Final Project - Programming For Data Science - 21KHDL1\n",
    "\n",
    "## VNU HCM - University of Science\n",
    "---"
   ]
  },
  {
   "cell_type": "markdown",
   "metadata": {},
   "source": [
    "## Member Information\n",
    "| Name              | ID       |\n",
    "|-------------------|----------|\n",
    "| Tran Nguyen Huan  | 21127050 |\n",
    "| Nguyen Phat Dat   | 21127240 |"
   ]
  },
  {
   "cell_type": "markdown",
   "metadata": {},
   "source": [
    "# Table of Contents"
   ]
  },
  {
   "cell_type": "markdown",
   "metadata": {},
   "source": [
    "## Overview\n",
    "---"
   ]
  },
  {
   "cell_type": "markdown",
   "metadata": {},
   "source": [
    "<h3>\n",
    "    <b>\n",
    "    US Accidents (2016 - 2023)\n",
    "    </b>\n",
    "</h3>\n",
    "    <img style=\"padding:10px\" src=\"https://hire.refactored.ai/upload-nct/portfolio_images/253/1626148168_GqMh6a2U.png\" width=\"800\"/>\n",
    "</center>\n",
    "This is a countrywide car accident dataset that were collected using multiple APIs that provide streaming traffic incident (or event) data. These APIs broadcast traffic data captured by various entities, including the US and state departments of transportation, law enforcement agencies, traffic cameras, and traffic sensors within the road networks.\n",
    "\n",
    "The data covers _49 states of the USA_ from _February 2016 to March 2023_. \n",
    "\n",
    "Note that the original dataset contains approximately __7.7 million records__ which is too large for our purpose (mostly data analysis). Therefore, we will just use a sampled version of this dataset which contains only __500.000 accident records__.\n",
    "\n",
    "Visit [here](https://smoosavi.org/datasets/us_accidents) for more information about the dataset.\n",
    "\n",
    "This Dataset can be accessed [here](https://doi.org/10.34740/KAGGLE/DS/199387): Sobhan Moosavi. (2023). <i>US Accidents (2016 - 2023)</i> Kaggle. Or [here](https://drive.google.com/file/d/1U3u8QYzLjnEaSurtZfSAS_oh9AT2Mn8X) for the sampled data.\n",
    "<center>\n"
   ]
  },
  {
   "cell_type": "markdown",
   "metadata": {},
   "source": [
    "__Goal:__ The primary goal of the project is to analyze and generate insights on the traffic accidents that took place in USA from Feb. 2016 to Mar. 2023."
   ]
  },
  {
   "cell_type": "markdown",
   "metadata": {},
   "source": [
    "## Usage Policy and Legal Disclaimer\n",
    "---\n",
    "This dataset is being distributed solely for research purposes under the Creative Commons Attribution-Noncommercial-ShareAlike license (CC BY-NC-SA 4.0). By downloading the dataset, we agree to use it only for non-commercial, research, or academic applications."
   ]
  },
  {
   "cell_type": "markdown",
   "metadata": {
    "vscode": {
     "languageId": "plaintext"
    }
   },
   "source": [
    "## Code Environment\n",
    "---"
   ]
  },
  {
   "cell_type": "code",
   "execution_count": 65,
   "metadata": {},
   "outputs": [
    {
     "data": {
      "text/plain": [
       "'d:\\\\Downloads\\\\anaconda\\\\python.exe'"
      ]
     },
     "execution_count": 65,
     "metadata": {},
     "output_type": "execute_result"
    }
   ],
   "source": [
    "import sys\n",
    "sys.executable"
   ]
  },
  {
   "cell_type": "markdown",
   "metadata": {},
   "source": [
    "## Import necessary libraries\n",
    "---"
   ]
  },
  {
   "cell_type": "code",
   "execution_count": 66,
   "metadata": {},
   "outputs": [],
   "source": [
    "import numpy as np\n",
    "import pandas as pd\n",
    "from pprint import pprint\n",
    "import matplotlib.pyplot as plt"
   ]
  },
  {
   "cell_type": "markdown",
   "metadata": {},
   "source": [
    "## Dataset Import\n",
    "---\n",
    "\n",
    "In the first place we are going to import the dataset using Pandas module."
   ]
  },
  {
   "cell_type": "code",
   "execution_count": 67,
   "metadata": {},
   "outputs": [],
   "source": [
    "df = pd.read_csv(\"Data/US_Accidents_March23_sampled_500k.csv\")"
   ]
  },
  {
   "cell_type": "markdown",
   "metadata": {},
   "source": [
    "Let's take a quick look at our data by examining the number of rows, columns.  "
   ]
  },
  {
   "cell_type": "code",
   "execution_count": 68,
   "metadata": {},
   "outputs": [
    {
     "name": "stdout",
     "output_type": "stream",
     "text": [
      "Shape: (500000, 46)\n"
     ]
    }
   ],
   "source": [
    "# print out the shape to know number of rows and columns\n",
    "print(\"Shape:\", df.shape)"
   ]
  },
  {
   "cell_type": "markdown",
   "metadata": {},
   "source": [
    "There are __500.000__ records of accidents in our data with each has __46__ features about that accident.\n",
    "\n",
    "The number of features here are a little too large, which might result in truncating when the data is being displayed. Therefore, we will set a larger the number of max columns in case this is not handled automatically."
   ]
  },
  {
   "cell_type": "code",
   "execution_count": 69,
   "metadata": {},
   "outputs": [],
   "source": [
    "# Set the Pandas display options to show all columns\n",
    "pd.set_option('display.max_columns', 50)"
   ]
  },
  {
   "cell_type": "markdown",
   "metadata": {},
   "source": [
    "Then, print out some samples to get a quick insight from our data."
   ]
  },
  {
   "cell_type": "code",
   "execution_count": 70,
   "metadata": {},
   "outputs": [
    {
     "data": {
      "text/html": [
       "<div>\n",
       "<style scoped>\n",
       "    .dataframe tbody tr th:only-of-type {\n",
       "        vertical-align: middle;\n",
       "    }\n",
       "\n",
       "    .dataframe tbody tr th {\n",
       "        vertical-align: top;\n",
       "    }\n",
       "\n",
       "    .dataframe thead th {\n",
       "        text-align: right;\n",
       "    }\n",
       "</style>\n",
       "<table border=\"1\" class=\"dataframe\">\n",
       "  <thead>\n",
       "    <tr style=\"text-align: right;\">\n",
       "      <th></th>\n",
       "      <th>ID</th>\n",
       "      <th>Source</th>\n",
       "      <th>Severity</th>\n",
       "      <th>Start_Time</th>\n",
       "      <th>End_Time</th>\n",
       "      <th>Start_Lat</th>\n",
       "      <th>Start_Lng</th>\n",
       "      <th>End_Lat</th>\n",
       "      <th>End_Lng</th>\n",
       "      <th>Distance(mi)</th>\n",
       "      <th>Description</th>\n",
       "      <th>Street</th>\n",
       "      <th>City</th>\n",
       "      <th>County</th>\n",
       "      <th>State</th>\n",
       "      <th>Zipcode</th>\n",
       "      <th>Country</th>\n",
       "      <th>Timezone</th>\n",
       "      <th>Airport_Code</th>\n",
       "      <th>Weather_Timestamp</th>\n",
       "      <th>Temperature(F)</th>\n",
       "      <th>Wind_Chill(F)</th>\n",
       "      <th>Humidity(%)</th>\n",
       "      <th>Pressure(in)</th>\n",
       "      <th>Visibility(mi)</th>\n",
       "      <th>Wind_Direction</th>\n",
       "      <th>Wind_Speed(mph)</th>\n",
       "      <th>Precipitation(in)</th>\n",
       "      <th>Weather_Condition</th>\n",
       "      <th>Amenity</th>\n",
       "      <th>Bump</th>\n",
       "      <th>Crossing</th>\n",
       "      <th>Give_Way</th>\n",
       "      <th>Junction</th>\n",
       "      <th>No_Exit</th>\n",
       "      <th>Railway</th>\n",
       "      <th>Roundabout</th>\n",
       "      <th>Station</th>\n",
       "      <th>Stop</th>\n",
       "      <th>Traffic_Calming</th>\n",
       "      <th>Traffic_Signal</th>\n",
       "      <th>Turning_Loop</th>\n",
       "      <th>Sunrise_Sunset</th>\n",
       "      <th>Civil_Twilight</th>\n",
       "      <th>Nautical_Twilight</th>\n",
       "      <th>Astronomical_Twilight</th>\n",
       "    </tr>\n",
       "  </thead>\n",
       "  <tbody>\n",
       "    <tr>\n",
       "      <th>222570</th>\n",
       "      <td>A-7413850</td>\n",
       "      <td>Source1</td>\n",
       "      <td>2</td>\n",
       "      <td>2019-09-10 14:06:00</td>\n",
       "      <td>2019-09-10 15:19:16</td>\n",
       "      <td>37.952547</td>\n",
       "      <td>-121.275063</td>\n",
       "      <td>37.952547</td>\n",
       "      <td>-121.275063</td>\n",
       "      <td>0.000</td>\n",
       "      <td>At S Wilson Way - Accident.</td>\n",
       "      <td>Ort J Lofthus Fwy E</td>\n",
       "      <td>Stockton</td>\n",
       "      <td>San Joaquin</td>\n",
       "      <td>CA</td>\n",
       "      <td>95205</td>\n",
       "      <td>US</td>\n",
       "      <td>US/Pacific</td>\n",
       "      <td>KSCK</td>\n",
       "      <td>2019-09-10 13:55:00</td>\n",
       "      <td>80.0</td>\n",
       "      <td>80.0</td>\n",
       "      <td>34.0</td>\n",
       "      <td>29.85</td>\n",
       "      <td>10.0</td>\n",
       "      <td>WSW</td>\n",
       "      <td>9.0</td>\n",
       "      <td>0.0</td>\n",
       "      <td>Fair</td>\n",
       "      <td>False</td>\n",
       "      <td>False</td>\n",
       "      <td>False</td>\n",
       "      <td>False</td>\n",
       "      <td>True</td>\n",
       "      <td>False</td>\n",
       "      <td>False</td>\n",
       "      <td>False</td>\n",
       "      <td>False</td>\n",
       "      <td>False</td>\n",
       "      <td>False</td>\n",
       "      <td>False</td>\n",
       "      <td>False</td>\n",
       "      <td>Day</td>\n",
       "      <td>Day</td>\n",
       "      <td>Day</td>\n",
       "      <td>Day</td>\n",
       "    </tr>\n",
       "    <tr>\n",
       "      <th>287971</th>\n",
       "      <td>A-4019418</td>\n",
       "      <td>Source1</td>\n",
       "      <td>4</td>\n",
       "      <td>2022-09-29 13:51:00</td>\n",
       "      <td>2022-09-29 16:45:00</td>\n",
       "      <td>38.721955</td>\n",
       "      <td>-104.730077</td>\n",
       "      <td>38.768714</td>\n",
       "      <td>-104.778768</td>\n",
       "      <td>4.162</td>\n",
       "      <td>Between CO 16 and Exit 135: South Academy Boul...</td>\n",
       "      <td>I-25 N</td>\n",
       "      <td>Fountain</td>\n",
       "      <td>El Paso</td>\n",
       "      <td>CO</td>\n",
       "      <td>80817</td>\n",
       "      <td>US</td>\n",
       "      <td>US/Mountain</td>\n",
       "      <td>KFCS</td>\n",
       "      <td>2022-09-29 13:56:00</td>\n",
       "      <td>81.0</td>\n",
       "      <td>81.0</td>\n",
       "      <td>16.0</td>\n",
       "      <td>24.32</td>\n",
       "      <td>10.0</td>\n",
       "      <td>ENE</td>\n",
       "      <td>8.0</td>\n",
       "      <td>0.0</td>\n",
       "      <td>Fair</td>\n",
       "      <td>False</td>\n",
       "      <td>False</td>\n",
       "      <td>False</td>\n",
       "      <td>False</td>\n",
       "      <td>False</td>\n",
       "      <td>False</td>\n",
       "      <td>False</td>\n",
       "      <td>False</td>\n",
       "      <td>False</td>\n",
       "      <td>False</td>\n",
       "      <td>False</td>\n",
       "      <td>False</td>\n",
       "      <td>False</td>\n",
       "      <td>Day</td>\n",
       "      <td>Day</td>\n",
       "      <td>Day</td>\n",
       "      <td>Day</td>\n",
       "    </tr>\n",
       "    <tr>\n",
       "      <th>453312</th>\n",
       "      <td>A-2935098</td>\n",
       "      <td>Source2</td>\n",
       "      <td>2</td>\n",
       "      <td>2018-03-09 19:51:44</td>\n",
       "      <td>2018-03-09 20:51:31</td>\n",
       "      <td>34.998356</td>\n",
       "      <td>-82.748680</td>\n",
       "      <td>NaN</td>\n",
       "      <td>NaN</td>\n",
       "      <td>0.000</td>\n",
       "      <td>Accident on SC-11 Cherokee Foothills Scenic Hw...</td>\n",
       "      <td>Cherokee Foothills Scenic Hwy</td>\n",
       "      <td>Pickens</td>\n",
       "      <td>Pickens</td>\n",
       "      <td>SC</td>\n",
       "      <td>29671-9597</td>\n",
       "      <td>US</td>\n",
       "      <td>US/Eastern</td>\n",
       "      <td>KLQK</td>\n",
       "      <td>2018-03-09 19:55:00</td>\n",
       "      <td>52.0</td>\n",
       "      <td>NaN</td>\n",
       "      <td>37.0</td>\n",
       "      <td>29.99</td>\n",
       "      <td>10.0</td>\n",
       "      <td>SW</td>\n",
       "      <td>8.1</td>\n",
       "      <td>NaN</td>\n",
       "      <td>Scattered Clouds</td>\n",
       "      <td>False</td>\n",
       "      <td>False</td>\n",
       "      <td>False</td>\n",
       "      <td>False</td>\n",
       "      <td>False</td>\n",
       "      <td>False</td>\n",
       "      <td>False</td>\n",
       "      <td>False</td>\n",
       "      <td>False</td>\n",
       "      <td>False</td>\n",
       "      <td>False</td>\n",
       "      <td>False</td>\n",
       "      <td>False</td>\n",
       "      <td>Night</td>\n",
       "      <td>Night</td>\n",
       "      <td>Night</td>\n",
       "      <td>Day</td>\n",
       "    </tr>\n",
       "    <tr>\n",
       "      <th>330021</th>\n",
       "      <td>A-5872429</td>\n",
       "      <td>Source1</td>\n",
       "      <td>2</td>\n",
       "      <td>2021-06-28 17:38:18</td>\n",
       "      <td>2021-06-28 18:10:35</td>\n",
       "      <td>35.829305</td>\n",
       "      <td>-78.627948</td>\n",
       "      <td>35.821575</td>\n",
       "      <td>-78.612711</td>\n",
       "      <td>1.007</td>\n",
       "      <td>Slow traffic on US-1 N - I-440 E from Six Fork...</td>\n",
       "      <td>I-440 E</td>\n",
       "      <td>Raleigh</td>\n",
       "      <td>Wake</td>\n",
       "      <td>NC</td>\n",
       "      <td>27609</td>\n",
       "      <td>US</td>\n",
       "      <td>US/Eastern</td>\n",
       "      <td>KRDU</td>\n",
       "      <td>2021-06-28 17:51:00</td>\n",
       "      <td>86.0</td>\n",
       "      <td>86.0</td>\n",
       "      <td>61.0</td>\n",
       "      <td>29.78</td>\n",
       "      <td>10.0</td>\n",
       "      <td>SSE</td>\n",
       "      <td>6.0</td>\n",
       "      <td>0.0</td>\n",
       "      <td>Mostly Cloudy</td>\n",
       "      <td>False</td>\n",
       "      <td>False</td>\n",
       "      <td>False</td>\n",
       "      <td>False</td>\n",
       "      <td>False</td>\n",
       "      <td>False</td>\n",
       "      <td>False</td>\n",
       "      <td>False</td>\n",
       "      <td>False</td>\n",
       "      <td>False</td>\n",
       "      <td>False</td>\n",
       "      <td>False</td>\n",
       "      <td>False</td>\n",
       "      <td>Day</td>\n",
       "      <td>Day</td>\n",
       "      <td>Day</td>\n",
       "      <td>Day</td>\n",
       "    </tr>\n",
       "  </tbody>\n",
       "</table>\n",
       "</div>"
      ],
      "text/plain": [
       "               ID   Source  Severity           Start_Time  \\\n",
       "222570  A-7413850  Source1         2  2019-09-10 14:06:00   \n",
       "287971  A-4019418  Source1         4  2022-09-29 13:51:00   \n",
       "453312  A-2935098  Source2         2  2018-03-09 19:51:44   \n",
       "330021  A-5872429  Source1         2  2021-06-28 17:38:18   \n",
       "\n",
       "                   End_Time  Start_Lat   Start_Lng    End_Lat     End_Lng  \\\n",
       "222570  2019-09-10 15:19:16  37.952547 -121.275063  37.952547 -121.275063   \n",
       "287971  2022-09-29 16:45:00  38.721955 -104.730077  38.768714 -104.778768   \n",
       "453312  2018-03-09 20:51:31  34.998356  -82.748680        NaN         NaN   \n",
       "330021  2021-06-28 18:10:35  35.829305  -78.627948  35.821575  -78.612711   \n",
       "\n",
       "        Distance(mi)                                        Description  \\\n",
       "222570         0.000                        At S Wilson Way - Accident.   \n",
       "287971         4.162  Between CO 16 and Exit 135: South Academy Boul...   \n",
       "453312         0.000  Accident on SC-11 Cherokee Foothills Scenic Hw...   \n",
       "330021         1.007  Slow traffic on US-1 N - I-440 E from Six Fork...   \n",
       "\n",
       "                               Street      City       County State  \\\n",
       "222570            Ort J Lofthus Fwy E  Stockton  San Joaquin    CA   \n",
       "287971                         I-25 N  Fountain      El Paso    CO   \n",
       "453312  Cherokee Foothills Scenic Hwy   Pickens      Pickens    SC   \n",
       "330021                        I-440 E   Raleigh         Wake    NC   \n",
       "\n",
       "           Zipcode Country     Timezone Airport_Code    Weather_Timestamp  \\\n",
       "222570       95205      US   US/Pacific         KSCK  2019-09-10 13:55:00   \n",
       "287971       80817      US  US/Mountain         KFCS  2022-09-29 13:56:00   \n",
       "453312  29671-9597      US   US/Eastern         KLQK  2018-03-09 19:55:00   \n",
       "330021       27609      US   US/Eastern         KRDU  2021-06-28 17:51:00   \n",
       "\n",
       "        Temperature(F)  Wind_Chill(F)  Humidity(%)  Pressure(in)  \\\n",
       "222570            80.0           80.0         34.0         29.85   \n",
       "287971            81.0           81.0         16.0         24.32   \n",
       "453312            52.0            NaN         37.0         29.99   \n",
       "330021            86.0           86.0         61.0         29.78   \n",
       "\n",
       "        Visibility(mi) Wind_Direction  Wind_Speed(mph)  Precipitation(in)  \\\n",
       "222570            10.0            WSW              9.0                0.0   \n",
       "287971            10.0            ENE              8.0                0.0   \n",
       "453312            10.0             SW              8.1                NaN   \n",
       "330021            10.0            SSE              6.0                0.0   \n",
       "\n",
       "       Weather_Condition  Amenity   Bump  Crossing  Give_Way  Junction  \\\n",
       "222570              Fair    False  False     False     False      True   \n",
       "287971              Fair    False  False     False     False     False   \n",
       "453312  Scattered Clouds    False  False     False     False     False   \n",
       "330021     Mostly Cloudy    False  False     False     False     False   \n",
       "\n",
       "        No_Exit  Railway  Roundabout  Station   Stop  Traffic_Calming  \\\n",
       "222570    False    False       False    False  False            False   \n",
       "287971    False    False       False    False  False            False   \n",
       "453312    False    False       False    False  False            False   \n",
       "330021    False    False       False    False  False            False   \n",
       "\n",
       "        Traffic_Signal  Turning_Loop Sunrise_Sunset Civil_Twilight  \\\n",
       "222570           False         False            Day            Day   \n",
       "287971           False         False            Day            Day   \n",
       "453312           False         False          Night          Night   \n",
       "330021           False         False            Day            Day   \n",
       "\n",
       "       Nautical_Twilight Astronomical_Twilight  \n",
       "222570               Day                   Day  \n",
       "287971               Day                   Day  \n",
       "453312             Night                   Day  \n",
       "330021               Day                   Day  "
      ]
     },
     "execution_count": 70,
     "metadata": {},
     "output_type": "execute_result"
    }
   ],
   "source": [
    "# examine 4 random samples from the data\n",
    "df.sample(4)"
   ]
  },
  {
   "cell_type": "markdown",
   "metadata": {},
   "source": [
    "## Features explanation\n",
    "There are __46__ features in our dataset, include:\n",
    "1. `ID`: A unique identifier of the accident record.\n",
    "2. `Source`: Source of raw accident data (it were collected from two different sources).\n",
    "3. `Severity`: The severity of the accident by a number between 1 and 4, where 1 indicates the least impact on traffic (i.e., short delay as a result of the accident) and 4 indicates a significant impact on traffic (i.e., long delay).\n",
    "4. `Start_Time`: Start time of the accident in local time zone.\n",
    "5. `End_Time`: Refers to when the impact of accident on traffic flow was dismissed.\n",
    "6. `Start_Lat`: Latitude in GPS coordinate of the start point.\n",
    "7. `Start_Lng`: Longitude in GPS coordinate of the start point.\n",
    "8. `End_Lat`: same as above but for the end point.\n",
    "9. `End_Lng`: same as above but for the end point.\n",
    "10. `Distance(mi)`: The length of the road extent affected by the accident (in _miles_).\n",
    "11. `Description`: Shows a human provided description of the accident.\n",
    "12. `Street`: Shows the street name in address field.\n",
    "13. `City`: City name.\n",
    "14. `County`: Country name.\n",
    "15. `State`: State name.\n",
    "16. `Zipcode`: Zipcode.\n",
    "17. `Country`: Country in address field (this field is different from above field).\n",
    "18. `Timezone`: Shows timezone based on the location of the accident (eastern, central, etc.).\n",
    "19. `Airport_Code`: Denotes an airport-based weather station which is the closest one to location of the accident.\n",
    "20. `Weather_Timestamp`: Time-stamp of weather observation record.\n",
    "21. `Temperature(F)`: Temperature (in Fahrenheit).\n",
    "22. `Wind_Chill(F)`: Wind chill (in Fahrenheit).\n",
    "23. `Humidity(%)`: Humidity (in percentage).\n",
    "24. `Pressure(in)`: Air pressure (in inches).\n",
    "25. `Visibility(mi)`: Visibility (in miles).\n",
    "26. `Wind_Direction`: Wind direction.\n",
    "27. `Wind_Speed(mph)`: Wind speed (in miles per hour).\n",
    "28. `Precipitation(in)`: Precipitation amount in inches.\n",
    "29. `Weather_Condition`: Weather condition (rain, snow, thunderstorm, fog, etc.)\n",
    "30. `Amenity`: Amenity in a nearby location (True/False).\n",
    "31. `Bump`: Speed bump or hump in a nearby location (True/False).\n",
    "32. `Crossing`: Crossing in a nearby location (True/False).\n",
    "33. `Give_Way`: Give_way in a nearby location (True/False).\n",
    "34. `Junction`: Junction in a nearby location (True/False).\n",
    "35. `No_Exit`: No_exit in a nearby location (True/False).\n",
    "36. `Railway`: Railway in a nearby location (True/False).\n",
    "37. `Roundabout`: Roundabout in a nearby location (True/False).\n",
    "38. `Station`: Station in a nearby location (True/False).\n",
    "39. `Stop`: Stop in a nearby location (True/False).\n",
    "40. `Traffic_Calming`: Traffic_calming in a nearby location (True/False).\n",
    "41. `Traffic_Signal`: Traffic_signal in a nearby location (True/False).\n",
    "42. `Turning_Loop`: Turning_loop in a nearby location (True/False).\n",
    "43. `Sunrise_Sunset`: based on sunrise/sunset (day/night).\n",
    "44. `Civil_Twilight`: based on civil twilight (day/night).\n",
    "45. `Nautical_Twilight`: based on nautical twilight (day/night).\n",
    "46. `Astronomical_Twilight`: based on astronomical twilight (day/night)."
   ]
  },
  {
   "cell_type": "markdown",
   "metadata": {},
   "source": [
    "## Data Cleaning\n",
    "---\n",
    "Our dataset contains a very large amount of information by providing many features. However, some fields may be too complex or not necessary to our analysis so we will consider dropping them from our data, these fields are:\n",
    "\n",
    "1. `ID`: We will replace the this field with the simple numeric index to reduce memory consumption.\n",
    "\n",
    "2. `Source`: This field do not provide substantial information for our analysis.\n",
    "\n",
    "3. `End_Lat` and `End_Lng`: Because normally we only need to know where the accidents happen, so the starting coordinates (`Start_Lat` and `Start_Lng`) are enough. However, we can consider using those ending points of the accidents in some other problems.\n",
    "\n",
    "4. `Airport_Code`: Specifying the nearest airport code is unnecessary in our problem.\n",
    "\n",
    "5. `Country`: As mentioned earlier, all the data is related to the USA, so this field does not add value.\n",
    "\n",
    "6. `Weather_Timestamp`: This field is not neccessary since we have `Start_Time` and `End_Time`.\n",
    "\n",
    "7. `Civil_Twilight`, `Nautical_Twilight`, and `Astronomical_Twilight`: These fields may not be directly relevant to our analysis, since we can derive the period of day (_Day_ and _Night_ ) directly from the time data (`Start_Time` and `End_Time`) and our analysis mostly focus on normal people.\n",
    "\n",
    "8. `Timezone`: This information can be derived from other relevant fields.\n",
    "\n",
    "9. `Description`: This field may be neccessary in some cases (to get a quick insight about the accident), but the field is provided by human natural language which is not easy to be processed and this task is also out of our scope in this project.\n",
    "\n",
    "\n",
    "By removing these fields, our dataset will be simplified, making it more focused and efficient for our analysis."
   ]
  },
  {
   "cell_type": "code",
   "execution_count": 71,
   "metadata": {},
   "outputs": [],
   "source": [
    "# Specify the names of the columns to be dropped\n",
    "cols2drop = ['End_Lat', 'End_Lng', 'ID', 'Source', 'Airport_Code', 'Country', 'Weather_Timestamp', 'Civil_Twilight', 'Nautical_Twilight', 'Astronomical_Twilight', 'Timezone', 'Description']\n",
    "\n",
    "# Use the drop() method to remove the specified columns\n",
    "df.drop(columns=cols2drop, inplace=True)"
   ]
  },
  {
   "cell_type": "markdown",
   "metadata": {},
   "source": [
    "**Quick overview of the Data:**\n",
    "\n",
    "In the following, a function is defined to show detailed overview of our data, and this function can be reused. "
   ]
  },
  {
   "cell_type": "code",
   "execution_count": 72,
   "metadata": {},
   "outputs": [
    {
     "name": "stdout",
     "output_type": "stream",
     "text": [
      "'----------------------------------------------------------------------'\n",
      "The Dataset Contains, Rows: 500,000 & Columns: 34\n",
      "'----------------------------------------------------------------------'\n"
     ]
    },
    {
     "name": "stdout",
     "output_type": "stream",
     "text": [
      "                  DataType  Missing Values  Missing %  Unique Values\n",
      "Severity             int64               0       0.00              4\n",
      "Start_Time          object               0       0.00         487027\n",
      "End_Time            object               0       0.00         493821\n",
      "Start_Lat          float64               0       0.00         368965\n",
      "Start_Lng          float64               0       0.00         370195\n",
      "Distance(mi)       float64               0       0.00          10627\n",
      "Street              object             691       0.14          88272\n",
      "City                object              19       0.00           9488\n",
      "County              object               0       0.00           1606\n",
      "State               object               0       0.00             49\n",
      "Zipcode             object             116       0.02         127804\n",
      "Temperature(F)     float64           10466       2.09            712\n",
      "Wind_Chill(F)      float64          129017      25.80            797\n",
      "Humidity(%)        float64           11130       2.23            100\n",
      "Pressure(in)       float64            8928       1.79            980\n",
      "Visibility(mi)     float64           11291       2.26             65\n",
      "Wind_Direction      object           11197       2.24             24\n",
      "Wind_Speed(mph)    float64           36987       7.40             95\n",
      "Precipitation(in)  float64          142616      28.52            175\n",
      "Weather_Condition   object           11101       2.22            108\n",
      "Amenity               bool               0       0.00              2\n",
      "Bump                  bool               0       0.00              2\n",
      "Crossing              bool               0       0.00              2\n",
      "Give_Way              bool               0       0.00              2\n",
      "Junction              bool               0       0.00              2\n",
      "No_Exit               bool               0       0.00              2\n",
      "Railway               bool               0       0.00              2\n",
      "Roundabout            bool               0       0.00              2\n",
      "Station               bool               0       0.00              2\n",
      "Stop                  bool               0       0.00              2\n",
      "Traffic_Calming       bool               0       0.00              2\n",
      "Traffic_Signal        bool               0       0.00              2\n",
      "Turning_Loop          bool               0       0.00              1\n",
      "Sunrise_Sunset      object            1483       0.30              2\n",
      "'----------------------------------------------------------------------'\n"
     ]
    }
   ],
   "source": [
    "def display_data_profile(df):\n",
    "    pprint('-' * 70)\n",
    "    print('The Dataset Contains, Rows: {:,d} & Columns: {}'.format(df.shape[0], df.shape[1]))\n",
    "    pprint('-' * 70)\n",
    "\n",
    "    data_profile = pd.DataFrame(df.dtypes.rename('DataType'))\n",
    "    data_profile['Missing Values'] = df.isnull().sum()\n",
    "    data_profile['Missing %'] = (df.isnull().mean() * 100).round(2)\n",
    "    data_profile['Unique Values'] = df.nunique()\n",
    "\n",
    "    pprint(data_profile)\n",
    "    pprint('-' * 70)\n",
    "\n",
    "display_data_profile(df)\n"
   ]
  },
  {
   "cell_type": "markdown",
   "metadata": {},
   "source": [
    "**Descriptive Statistics Overview**"
   ]
  },
  {
   "cell_type": "code",
   "execution_count": 73,
   "metadata": {},
   "outputs": [
    {
     "data": {
      "text/html": [
       "<div>\n",
       "<style scoped>\n",
       "    .dataframe tbody tr th:only-of-type {\n",
       "        vertical-align: middle;\n",
       "    }\n",
       "\n",
       "    .dataframe tbody tr th {\n",
       "        vertical-align: top;\n",
       "    }\n",
       "\n",
       "    .dataframe thead th {\n",
       "        text-align: right;\n",
       "    }\n",
       "</style>\n",
       "<table border=\"1\" class=\"dataframe\">\n",
       "  <thead>\n",
       "    <tr style=\"text-align: right;\">\n",
       "      <th></th>\n",
       "      <th>count</th>\n",
       "      <th>mean</th>\n",
       "      <th>std</th>\n",
       "      <th>min</th>\n",
       "      <th>25%</th>\n",
       "      <th>50%</th>\n",
       "      <th>75%</th>\n",
       "      <th>max</th>\n",
       "    </tr>\n",
       "  </thead>\n",
       "  <tbody>\n",
       "    <tr>\n",
       "      <th>Severity</th>\n",
       "      <td>500000.0</td>\n",
       "      <td>2.212748</td>\n",
       "      <td>0.486661</td>\n",
       "      <td>1.000000</td>\n",
       "      <td>2.000000</td>\n",
       "      <td>2.000000</td>\n",
       "      <td>2.000000</td>\n",
       "      <td>4.000000</td>\n",
       "    </tr>\n",
       "    <tr>\n",
       "      <th>Start_Lat</th>\n",
       "      <td>500000.0</td>\n",
       "      <td>36.206421</td>\n",
       "      <td>5.071411</td>\n",
       "      <td>24.562117</td>\n",
       "      <td>33.416823</td>\n",
       "      <td>35.832147</td>\n",
       "      <td>40.082443</td>\n",
       "      <td>48.999569</td>\n",
       "    </tr>\n",
       "    <tr>\n",
       "      <th>Start_Lng</th>\n",
       "      <td>500000.0</td>\n",
       "      <td>-94.736583</td>\n",
       "      <td>17.405761</td>\n",
       "      <td>-124.497420</td>\n",
       "      <td>-117.233047</td>\n",
       "      <td>-87.794365</td>\n",
       "      <td>-80.359601</td>\n",
       "      <td>-67.484130</td>\n",
       "    </tr>\n",
       "    <tr>\n",
       "      <th>Distance(mi)</th>\n",
       "      <td>500000.0</td>\n",
       "      <td>0.564317</td>\n",
       "      <td>1.774872</td>\n",
       "      <td>0.000000</td>\n",
       "      <td>0.000000</td>\n",
       "      <td>0.029000</td>\n",
       "      <td>0.465000</td>\n",
       "      <td>193.479996</td>\n",
       "    </tr>\n",
       "    <tr>\n",
       "      <th>Temperature(F)</th>\n",
       "      <td>489534.0</td>\n",
       "      <td>61.646254</td>\n",
       "      <td>19.000133</td>\n",
       "      <td>-77.800000</td>\n",
       "      <td>49.000000</td>\n",
       "      <td>64.000000</td>\n",
       "      <td>76.000000</td>\n",
       "      <td>207.000000</td>\n",
       "    </tr>\n",
       "    <tr>\n",
       "      <th>Wind_Chill(F)</th>\n",
       "      <td>370983.0</td>\n",
       "      <td>58.229028</td>\n",
       "      <td>22.352246</td>\n",
       "      <td>-53.200000</td>\n",
       "      <td>43.000000</td>\n",
       "      <td>62.000000</td>\n",
       "      <td>75.000000</td>\n",
       "      <td>207.000000</td>\n",
       "    </tr>\n",
       "    <tr>\n",
       "      <th>Humidity(%)</th>\n",
       "      <td>488870.0</td>\n",
       "      <td>64.834921</td>\n",
       "      <td>22.826158</td>\n",
       "      <td>1.000000</td>\n",
       "      <td>48.000000</td>\n",
       "      <td>67.000000</td>\n",
       "      <td>84.000000</td>\n",
       "      <td>100.000000</td>\n",
       "    </tr>\n",
       "    <tr>\n",
       "      <th>Pressure(in)</th>\n",
       "      <td>491072.0</td>\n",
       "      <td>29.536621</td>\n",
       "      <td>1.008666</td>\n",
       "      <td>0.120000</td>\n",
       "      <td>29.370000</td>\n",
       "      <td>29.860000</td>\n",
       "      <td>30.030000</td>\n",
       "      <td>38.440000</td>\n",
       "    </tr>\n",
       "    <tr>\n",
       "      <th>Visibility(mi)</th>\n",
       "      <td>488709.0</td>\n",
       "      <td>9.091540</td>\n",
       "      <td>2.708083</td>\n",
       "      <td>0.000000</td>\n",
       "      <td>10.000000</td>\n",
       "      <td>10.000000</td>\n",
       "      <td>10.000000</td>\n",
       "      <td>130.000000</td>\n",
       "    </tr>\n",
       "    <tr>\n",
       "      <th>Wind_Speed(mph)</th>\n",
       "      <td>463013.0</td>\n",
       "      <td>7.681347</td>\n",
       "      <td>5.431361</td>\n",
       "      <td>0.000000</td>\n",
       "      <td>4.600000</td>\n",
       "      <td>7.000000</td>\n",
       "      <td>10.400000</td>\n",
       "      <td>822.800000</td>\n",
       "    </tr>\n",
       "    <tr>\n",
       "      <th>Precipitation(in)</th>\n",
       "      <td>357384.0</td>\n",
       "      <td>0.008289</td>\n",
       "      <td>0.101865</td>\n",
       "      <td>0.000000</td>\n",
       "      <td>0.000000</td>\n",
       "      <td>0.000000</td>\n",
       "      <td>0.000000</td>\n",
       "      <td>10.130000</td>\n",
       "    </tr>\n",
       "  </tbody>\n",
       "</table>\n",
       "</div>"
      ],
      "text/plain": [
       "                      count       mean        std         min         25%  \\\n",
       "Severity           500000.0   2.212748   0.486661    1.000000    2.000000   \n",
       "Start_Lat          500000.0  36.206421   5.071411   24.562117   33.416823   \n",
       "Start_Lng          500000.0 -94.736583  17.405761 -124.497420 -117.233047   \n",
       "Distance(mi)       500000.0   0.564317   1.774872    0.000000    0.000000   \n",
       "Temperature(F)     489534.0  61.646254  19.000133  -77.800000   49.000000   \n",
       "Wind_Chill(F)      370983.0  58.229028  22.352246  -53.200000   43.000000   \n",
       "Humidity(%)        488870.0  64.834921  22.826158    1.000000   48.000000   \n",
       "Pressure(in)       491072.0  29.536621   1.008666    0.120000   29.370000   \n",
       "Visibility(mi)     488709.0   9.091540   2.708083    0.000000   10.000000   \n",
       "Wind_Speed(mph)    463013.0   7.681347   5.431361    0.000000    4.600000   \n",
       "Precipitation(in)  357384.0   0.008289   0.101865    0.000000    0.000000   \n",
       "\n",
       "                         50%        75%         max  \n",
       "Severity            2.000000   2.000000    4.000000  \n",
       "Start_Lat          35.832147  40.082443   48.999569  \n",
       "Start_Lng         -87.794365 -80.359601  -67.484130  \n",
       "Distance(mi)        0.029000   0.465000  193.479996  \n",
       "Temperature(F)     64.000000  76.000000  207.000000  \n",
       "Wind_Chill(F)      62.000000  75.000000  207.000000  \n",
       "Humidity(%)        67.000000  84.000000  100.000000  \n",
       "Pressure(in)       29.860000  30.030000   38.440000  \n",
       "Visibility(mi)     10.000000  10.000000  130.000000  \n",
       "Wind_Speed(mph)     7.000000  10.400000  822.800000  \n",
       "Precipitation(in)   0.000000   0.000000   10.130000  "
      ]
     },
     "execution_count": 73,
     "metadata": {},
     "output_type": "execute_result"
    }
   ],
   "source": [
    "df.describe().T"
   ]
  },
  {
   "cell_type": "markdown",
   "metadata": {},
   "source": [
    "The following bar chart illustrates the percentage of missing values. This visualization provides a visual representation of the extent of missing data across different features."
   ]
  },
  {
   "cell_type": "code",
   "execution_count": 74,
   "metadata": {},
   "outputs": [
    {
     "data": {
      "text/plain": [
       "Text(0.5, 0, 'Missing Values In Percentage')"
      ]
     },
     "execution_count": 74,
     "metadata": {},
     "output_type": "execute_result"
    },
    {
     "data": {
      "image/png": "[encoded data removed]",
      "text/plain": [
       "<Figure size 640x480 with 1 Axes>"
      ]
     },
     "metadata": {},
     "output_type": "display_data"
    }
   ],
   "source": [
    "missing_percent = df.isnull().mean().sort_values (ascending = False) * 100\n",
    "missing_percent[missing_percent !=0].plot(kind='barh')\n",
    "plt.xlabel('Missing Values In Percentage')"
   ]
  },
  {
   "cell_type": "markdown",
   "metadata": {},
   "source": [
    "Given the vastness of our dataset, comprising `500.000` entries. As a result, excluding rows linked to columns with `less than 5%` missing data is unlikely to substantially affect our analysis. Hence, we can confidently discard data with less than 5% missing values. "
   ]
  },
  {
   "cell_type": "code",
   "execution_count": 75,
   "metadata": {},
   "outputs": [],
   "source": [
    "df.dropna(subset=['Visibility(mi)', 'Wind_Direction', 'Humidity(%)', 'Weather_Condition', 'Temperature(F)', 'Pressure(in)', 'Sunrise_Sunset', 'Street', 'Zipcode'], inplace=True)"
   ]
  },
  {
   "cell_type": "markdown",
   "metadata": {},
   "source": [
    "- The columns `Precipitation(in)`, `Wind_Chill(F)`, and `Wind_Speed(mph)` (28.52%, 25.8%, and 7.4% respectively) exhibit a high percentage of missing data.\n",
    "- If we were to remove these missing entries, it would result in a substantial loss of approximately 200,000 records\n",
    "- Consequently, we have decided to address this issue by imputing the missing values with the respective mean values of those fields."
   ]
  },
  {
   "cell_type": "code",
   "execution_count": 76,
   "metadata": {},
   "outputs": [],
   "source": [
    "columns = ['Precipitation(in)', 'Wind_Chill(F)', 'Wind_Speed(mph)']\n",
    "\n",
    "for c in columns:\n",
    "    df[c].fillna(df[c].mean(), inplace=True)"
   ]
  },
  {
   "cell_type": "markdown",
   "metadata": {},
   "source": [
    "Let's run the `display_data_profile()` on the modified data."
   ]
  },
  {
   "cell_type": "code",
   "execution_count": 77,
   "metadata": {},
   "outputs": [
    {
     "name": "stdout",
     "output_type": "stream",
     "text": [
      "'----------------------------------------------------------------------'\n",
      "The Dataset Contains, Rows: 480,659 & Columns: 34\n",
      "'----------------------------------------------------------------------'\n"
     ]
    },
    {
     "name": "stdout",
     "output_type": "stream",
     "text": [
      "                  DataType  Missing Values  Missing %  Unique Values\n",
      "Severity             int64               0        0.0              4\n",
      "Start_Time          object               0        0.0         468542\n",
      "End_Time            object               0        0.0         474937\n",
      "Start_Lat          float64               0        0.0         355075\n",
      "Start_Lng          float64               0        0.0         356246\n",
      "Distance(mi)       float64               0        0.0          10419\n",
      "Street              object               0        0.0          85662\n",
      "City                object               0        0.0           8921\n",
      "County              object               0        0.0           1560\n",
      "State               object               0        0.0             49\n",
      "Zipcode             object               0        0.0         123668\n",
      "Temperature(F)     float64               0        0.0            709\n",
      "Wind_Chill(F)      float64               0        0.0            797\n",
      "Humidity(%)        float64               0        0.0            100\n",
      "Pressure(in)       float64               0        0.0            965\n",
      "Visibility(mi)     float64               0        0.0             61\n",
      "Wind_Direction      object               0        0.0             24\n",
      "Wind_Speed(mph)    float64               0        0.0             93\n",
      "Precipitation(in)  float64               0        0.0            170\n",
      "Weather_Condition   object               0        0.0            107\n",
      "Amenity               bool               0        0.0              2\n",
      "Bump                  bool               0        0.0              2\n",
      "Crossing              bool               0        0.0              2\n",
      "Give_Way              bool               0        0.0              2\n",
      "Junction              bool               0        0.0              2\n",
      "No_Exit               bool               0        0.0              2\n",
      "Railway               bool               0        0.0              2\n",
      "Roundabout            bool               0        0.0              2\n",
      "Station               bool               0        0.0              2\n",
      "Stop                  bool               0        0.0              2\n",
      "Traffic_Calming       bool               0        0.0              2\n",
      "Traffic_Signal        bool               0        0.0              2\n",
      "Turning_Loop          bool               0        0.0              1\n",
      "Sunrise_Sunset      object               0        0.0              2\n",
      "'----------------------------------------------------------------------'\n"
     ]
    }
   ],
   "source": [
    "display_data_profile(df)"
   ]
  },
  {
   "cell_type": "markdown",
   "metadata": {},
   "source": [
    "It's time to remove duplicate rows."
   ]
  },
  {
   "cell_type": "code",
   "execution_count": 78,
   "metadata": {},
   "outputs": [
    {
     "name": "stdout",
     "output_type": "stream",
     "text": [
      "Number of rows: 480659\n"
     ]
    },
    {
     "name": "stdout",
     "output_type": "stream",
     "text": [
      "Number of rows after dropping duplicates: 480170\n"
     ]
    }
   ],
   "source": [
    "print(\"Number of rows:\", len(df.index))\n",
    "df.drop_duplicates(inplace=True)\n",
    "print(\"Number of rows after dropping duplicates:\", len(df.index))"
   ]
  },
  {
   "cell_type": "markdown",
   "metadata": {},
   "source": [
    "In this phase of the analysis, we performed thorough data preprocessing and cleaning to enhance the quality of the dataset. \n",
    "\n",
    "With the dataset now well-prepared, we are poised to transition to the Exploratory Data Analysis (EDA) phase, where we will delve deeper into the insights and patterns within the data."
   ]
  },
  {
   "cell_type": "markdown",
   "metadata": {},
   "source": [
    "## Exploring Accidents: A Deep Dive into Data Insights (Raise questions that need answering)\n",
    "---"
   ]
  },
  {
   "cell_type": "markdown",
   "metadata": {},
   "source": [
    "### Question 1:"
   ]
  },
  {
   "cell_type": "markdown",
   "metadata": {},
   "source": [
    "#### The purpose of the question"
   ]
  },
  {
   "cell_type": "markdown",
   "metadata": {},
   "source": [
    "#### How to solve the question"
   ]
  },
  {
   "cell_type": "markdown",
   "metadata": {},
   "source": [
    "#### Pre-processing"
   ]
  },
  {
   "cell_type": "markdown",
   "metadata": {},
   "source": [
    "#### Exploratory Analysis and Visualization"
   ]
  },
  {
   "cell_type": "markdown",
   "metadata": {},
   "source": [
    "#### Answer the question"
   ]
  },
  {
   "cell_type": "markdown",
   "metadata": {},
   "source": [
    "### Question 2:"
   ]
  },
  {
   "cell_type": "markdown",
   "metadata": {},
   "source": [
    "#### The purpose of the question"
   ]
  },
  {
   "cell_type": "markdown",
   "metadata": {},
   "source": [
    "#### How to solve the question"
   ]
  },
  {
   "cell_type": "markdown",
   "metadata": {},
   "source": [
    "#### Pre-processing"
   ]
  },
  {
   "cell_type": "markdown",
   "metadata": {},
   "source": [
    "#### Exploratory Analysis and Visualization"
   ]
  },
  {
   "cell_type": "markdown",
   "metadata": {},
   "source": [
    "#### Answer the question"
   ]
  },
  {
   "cell_type": "markdown",
   "metadata": {},
   "source": [
    "### Question 3:"
   ]
  },
  {
   "cell_type": "markdown",
   "metadata": {},
   "source": [
    "#### The purpose of the question"
   ]
  },
  {
   "cell_type": "markdown",
   "metadata": {},
   "source": [
    "#### How to solve the question"
   ]
  },
  {
   "cell_type": "markdown",
   "metadata": {},
   "source": [
    "#### Pre-processing"
   ]
  },
  {
   "cell_type": "markdown",
   "metadata": {},
   "source": [
    "#### Exploratory Analysis and Visualization"
   ]
  },
  {
   "cell_type": "markdown",
   "metadata": {},
   "source": [
    "#### Answer the question"
   ]
  },
  {
   "cell_type": "markdown",
   "metadata": {},
   "source": [
    "### Question 4:"
   ]
  },
  {
   "cell_type": "markdown",
   "metadata": {},
   "source": [
    "#### The purpose of the question"
   ]
  },
  {
   "cell_type": "markdown",
   "metadata": {},
   "source": [
    "#### How to solve the question"
   ]
  },
  {
   "cell_type": "markdown",
   "metadata": {},
   "source": [
    "#### Pre-processing"
   ]
  },
  {
   "cell_type": "markdown",
   "metadata": {},
   "source": [
    "#### Exploratory Analysis and Visualization"
   ]
  },
  {
   "cell_type": "markdown",
   "metadata": {},
   "source": [
    "#### Answer the question"
   ]
  },
  {
   "cell_type": "markdown",
   "metadata": {},
   "source": [
    "## Reflection"
   ]
  },
  {
   "cell_type": "markdown",
   "metadata": {},
   "source": [
    "## References"
   ]
  },
  {
   "cell_type": "markdown",
   "metadata": {},
   "source": [
    "* https://www.kaggle.com/datasets/sobhanmoosavi/us-accidents\n",
    "  \n",
    "* https://www.kaggle.com/code/yasirkhan1811/us-accidents-data-analysis-2016-2023\n",
    "  \n",
    "* Moosavi, Sobhan, Mohammad Hossein Samavatian, Srinivasan Parthasarathy, and Rajiv Ramnath. [“A Countrywide Traffic Accident Dataset.”](https://arxiv.org/abs/1906.05409), 2019.\n",
    "\n",
    "* Moosavi, Sobhan, Mohammad Hossein Samavatian, Srinivasan Parthasarathy, Radu Teodorescu, and Rajiv Ramnath. [\"Accident Risk Prediction based on Heterogeneous Sparse Data: New Dataset and Insights.\"](https://arxiv.org/abs/1909.09638) In proceedings of the 27th ACM SIGSPATIAL International Conference on Advances in Geographic Information Systems, ACM, 2019."
   ]
  },
  {
   "cell_type": "markdown",
   "metadata": {},
   "source": [
    "<center>\n",
    "    <img src=\"https://media.tenor.com/Ydeuc5VH3gIAAAAd/anime-crash.gif\" />\n",
    "</center>\n",
    "\n",
    "<ul style=\"list-style-type:none; text-align: center;\">\n",
    "    <li style=\"font-family:'Microsoft JhengHei UI Light';font-weight: bold;font-size:40px;color:  #6468e8\">Thank You!</li>\n",
    "    <li style=\"font-family:'Microsoft JhengHei UI Light';font-weight: bold;font-size:35px;color:  #6468e8\">Please give us 10 points, Teacher</li>\n",
    "</ul>"
   ]
  }
 ],
 "metadata": {
  "kernelspec": {
   "display_name": "Python 3 (ipykernel)",
   "language": "python",
   "name": "python3"
  },
  "language_info": {
   "codemirror_mode": {
    "name": "ipython",
    "version": 3
   },
   "file_extension": ".py",
   "mimetype": "text/x-python",
   "name": "python",
   "nbconvert_exporter": "python",
   "pygments_lexer": "ipython3",
   "version": "3.11.5"
  }
 },
 "nbformat": 4,
 "nbformat_minor": 4
}
