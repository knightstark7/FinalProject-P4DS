{
 "cells": [
  {
   "cell_type": "markdown",
   "metadata": {},
   "source": [
    "# Final Project - Programming For Data Science\n",
    "---\n",
    "---"
   ]
  },
  {
   "cell_type": "markdown",
   "metadata": {},
   "source": [
    "## Member Information\n",
    "| Name              | ID       |\n",
    "|-------------------|----------|\n",
    "| Tran Nguyen Huan  | 21127050 |\n",
    "| Nguyen Phat Dat   | 21127240 |"
   ]
  },
  {
   "cell_type": "markdown",
   "metadata": {},
   "source": [
    "## Table of Contents:\n",
    "\n",
    "1. [Acknowledgement](#acknowledgement)\n",
    "\n",
    "2. [Introduction](#introduction)\n",
    "    \n",
    "    1. [About dataset](#about-dataset)\n",
    "\n",
    "\n",
    "3. [Details](#details)\n",
    "\n",
    "    1. [Collecting data](#1-collecting-data)\n",
    "\n",
    "    2. [Exploring and Preprocessing data](#2-exploring-and-preprocessing-data)\n",
    "\n",
    "    3. [Asking meaningful question](#3-asking-meaningful-questions)\n",
    "\n",
    "    4. [Reflection](#reflection)\n",
    "\n",
    "    5. [References](#references)"
   ]
  },
  {
   "cell_type": "markdown",
   "metadata": {},
   "source": [
    "## Overview\n",
    "---"
   ]
  },
  {
   "cell_type": "markdown",
   "metadata": {},
   "source": [
    "<h3>\n",
    "    <b>\n",
    "    US Accidents (2016 - 2023)\n",
    "    </b>\n",
    "</h3>\n",
    "    <img style=\"padding:10px\" src=\"https://hire.refactored.ai/upload-nct/portfolio_images/253/1626148168_GqMh6a2U.png\" width=\"800\"/>\n",
    "</center>\n",
    "\"This is a countrywide car accident dataset that covers 49 states of the USA. The accident data were collected from February 2016 to March 2023, using multiple APIs that provide streaming traffic incident (or event) data. These APIs broadcast traffic data captured by various entities, including the US and state departments of transportation, law enforcement agencies, traffic cameras, and traffic sensors within the road networks. The dataset currently contains approximately **7.7 million** accident records.\"\n",
    "This Dataset can be accessed here: Sobhan Moosavi. (2023). <i>US Accidents (2016 - 2023)</i> [Data set]. Kaggle. https://doi.org/10.34740/KAGGLE/DS/199387\n",
    "<center>\n"
   ]
  },
  {
   "cell_type": "markdown",
   "metadata": {},
   "source": [
    "The primary goal of the project is to analyze and generate insights on the traffic accidents that took place in USA from Feb. 2016 to Mar. 2023."
   ]
  },
  {
   "cell_type": "markdown",
   "metadata": {},
   "source": [
    "## Usage Policy and Legal Disclaimer\n",
    "---\n",
    "This dataset is being distributed solely for research purposes under the Creative Commons Attribution-Noncommercial-ShareAlike license (CC BY-NC-SA 4.0). By downloading the dataset, we agree to use it only for non-commercial, research, or academic applications. "
   ]
  },
  {
   "cell_type": "markdown",
   "metadata": {
    "vscode": {
     "languageId": "plaintext"
    }
   },
   "source": [
    "## Code Environment\n",
    "---"
   ]
  },
  {
   "cell_type": "code",
   "execution_count": 1,
   "metadata": {},
   "outputs": [
    {
     "data": {
      "text/plain": [
       "'d:\\\\Downloads\\\\anaconda\\\\python.exe'"
      ]
     },
     "execution_count": 1,
     "metadata": {},
     "output_type": "execute_result"
    }
   ],
   "source": [
    "import sys\n",
    "sys.executable"
   ]
  },
  {
   "cell_type": "markdown",
   "metadata": {},
   "source": [
    "## Import necessary libraries\n",
    "---"
   ]
  },
  {
   "cell_type": "code",
   "execution_count": 11,
   "metadata": {},
   "outputs": [],
   "source": [
    "import numpy as np\n",
    "import pandas as pd\n",
    "from pprint import pprint"
   ]
  },
  {
   "cell_type": "markdown",
   "metadata": {},
   "source": [
    "## Dataset Import\n",
    "---\n",
    "\n",
    "In the first place we are going to import the dataset using Pandas module."
   ]
  },
  {
   "cell_type": "code",
   "execution_count": null,
   "metadata": {},
   "outputs": [],
   "source": [
    "df = pd.read_csv(\"Data/US_Accidents_March23.csv\")"
   ]
  },
  {
   "cell_type": "code",
   "execution_count": 8,
   "metadata": {},
   "outputs": [
    {
     "name": "stdout",
     "output_type": "stream",
     "text": [
      "Size of our Dataset: (7728394, 46)\n"
     ]
    }
   ],
   "source": [
    "print(\"Size of our Dataset:\", df.shape)"
   ]
  },
  {
   "cell_type": "code",
   "execution_count": 9,
   "metadata": {},
   "outputs": [
    {
     "data": {
      "text/html": [
       "<div>\n",
       "<style scoped>\n",
       "    .dataframe tbody tr th:only-of-type {\n",
       "        vertical-align: middle;\n",
       "    }\n",
       "\n",
       "    .dataframe tbody tr th {\n",
       "        vertical-align: top;\n",
       "    }\n",
       "\n",
       "    .dataframe thead th {\n",
       "        text-align: right;\n",
       "    }\n",
       "</style>\n",
       "<table border=\"1\" class=\"dataframe\">\n",
       "  <thead>\n",
       "    <tr style=\"text-align: right;\">\n",
       "      <th></th>\n",
       "      <th>ID</th>\n",
       "      <th>Source</th>\n",
       "      <th>Severity</th>\n",
       "      <th>Start_Time</th>\n",
       "      <th>End_Time</th>\n",
       "      <th>Start_Lat</th>\n",
       "      <th>Start_Lng</th>\n",
       "      <th>End_Lat</th>\n",
       "      <th>End_Lng</th>\n",
       "      <th>Distance(mi)</th>\n",
       "      <th>Description</th>\n",
       "      <th>Street</th>\n",
       "      <th>City</th>\n",
       "      <th>County</th>\n",
       "      <th>State</th>\n",
       "      <th>Zipcode</th>\n",
       "      <th>Country</th>\n",
       "      <th>Timezone</th>\n",
       "      <th>Airport_Code</th>\n",
       "      <th>Weather_Timestamp</th>\n",
       "      <th>Temperature(F)</th>\n",
       "      <th>Wind_Chill(F)</th>\n",
       "      <th>Humidity(%)</th>\n",
       "      <th>Pressure(in)</th>\n",
       "      <th>Visibility(mi)</th>\n",
       "      <th>Wind_Direction</th>\n",
       "      <th>Wind_Speed(mph)</th>\n",
       "      <th>Precipitation(in)</th>\n",
       "      <th>Weather_Condition</th>\n",
       "      <th>Amenity</th>\n",
       "      <th>Bump</th>\n",
       "      <th>Crossing</th>\n",
       "      <th>Give_Way</th>\n",
       "      <th>Junction</th>\n",
       "      <th>No_Exit</th>\n",
       "      <th>Railway</th>\n",
       "      <th>Roundabout</th>\n",
       "      <th>Station</th>\n",
       "      <th>Stop</th>\n",
       "      <th>Traffic_Calming</th>\n",
       "      <th>Traffic_Signal</th>\n",
       "      <th>Turning_Loop</th>\n",
       "      <th>Sunrise_Sunset</th>\n",
       "      <th>Civil_Twilight</th>\n",
       "      <th>Nautical_Twilight</th>\n",
       "      <th>Astronomical_Twilight</th>\n",
       "    </tr>\n",
       "  </thead>\n",
       "  <tbody>\n",
       "    <tr>\n",
       "      <th>0</th>\n",
       "      <td>A-1</td>\n",
       "      <td>Source2</td>\n",
       "      <td>3</td>\n",
       "      <td>2016-02-08 05:46:00</td>\n",
       "      <td>2016-02-08 11:00:00</td>\n",
       "      <td>39.865147</td>\n",
       "      <td>-84.058723</td>\n",
       "      <td>NaN</td>\n",
       "      <td>NaN</td>\n",
       "      <td>0.01</td>\n",
       "      <td>Right lane blocked due to accident on I-70 Eas...</td>\n",
       "      <td>I-70 E</td>\n",
       "      <td>Dayton</td>\n",
       "      <td>Montgomery</td>\n",
       "      <td>OH</td>\n",
       "      <td>45424</td>\n",
       "      <td>US</td>\n",
       "      <td>US/Eastern</td>\n",
       "      <td>KFFO</td>\n",
       "      <td>2016-02-08 05:58:00</td>\n",
       "      <td>36.9</td>\n",
       "      <td>NaN</td>\n",
       "      <td>91.0</td>\n",
       "      <td>29.68</td>\n",
       "      <td>10.0</td>\n",
       "      <td>Calm</td>\n",
       "      <td>NaN</td>\n",
       "      <td>0.02</td>\n",
       "      <td>Light Rain</td>\n",
       "      <td>False</td>\n",
       "      <td>False</td>\n",
       "      <td>False</td>\n",
       "      <td>False</td>\n",
       "      <td>False</td>\n",
       "      <td>False</td>\n",
       "      <td>False</td>\n",
       "      <td>False</td>\n",
       "      <td>False</td>\n",
       "      <td>False</td>\n",
       "      <td>False</td>\n",
       "      <td>False</td>\n",
       "      <td>False</td>\n",
       "      <td>Night</td>\n",
       "      <td>Night</td>\n",
       "      <td>Night</td>\n",
       "      <td>Night</td>\n",
       "    </tr>\n",
       "    <tr>\n",
       "      <th>1</th>\n",
       "      <td>A-2</td>\n",
       "      <td>Source2</td>\n",
       "      <td>2</td>\n",
       "      <td>2016-02-08 06:07:59</td>\n",
       "      <td>2016-02-08 06:37:59</td>\n",
       "      <td>39.928059</td>\n",
       "      <td>-82.831184</td>\n",
       "      <td>NaN</td>\n",
       "      <td>NaN</td>\n",
       "      <td>0.01</td>\n",
       "      <td>Accident on Brice Rd at Tussing Rd. Expect del...</td>\n",
       "      <td>Brice Rd</td>\n",
       "      <td>Reynoldsburg</td>\n",
       "      <td>Franklin</td>\n",
       "      <td>OH</td>\n",
       "      <td>43068-3402</td>\n",
       "      <td>US</td>\n",
       "      <td>US/Eastern</td>\n",
       "      <td>KCMH</td>\n",
       "      <td>2016-02-08 05:51:00</td>\n",
       "      <td>37.9</td>\n",
       "      <td>NaN</td>\n",
       "      <td>100.0</td>\n",
       "      <td>29.65</td>\n",
       "      <td>10.0</td>\n",
       "      <td>Calm</td>\n",
       "      <td>NaN</td>\n",
       "      <td>0.00</td>\n",
       "      <td>Light Rain</td>\n",
       "      <td>False</td>\n",
       "      <td>False</td>\n",
       "      <td>False</td>\n",
       "      <td>False</td>\n",
       "      <td>False</td>\n",
       "      <td>False</td>\n",
       "      <td>False</td>\n",
       "      <td>False</td>\n",
       "      <td>False</td>\n",
       "      <td>False</td>\n",
       "      <td>False</td>\n",
       "      <td>False</td>\n",
       "      <td>False</td>\n",
       "      <td>Night</td>\n",
       "      <td>Night</td>\n",
       "      <td>Night</td>\n",
       "      <td>Day</td>\n",
       "    </tr>\n",
       "    <tr>\n",
       "      <th>2</th>\n",
       "      <td>A-3</td>\n",
       "      <td>Source2</td>\n",
       "      <td>2</td>\n",
       "      <td>2016-02-08 06:49:27</td>\n",
       "      <td>2016-02-08 07:19:27</td>\n",
       "      <td>39.063148</td>\n",
       "      <td>-84.032608</td>\n",
       "      <td>NaN</td>\n",
       "      <td>NaN</td>\n",
       "      <td>0.01</td>\n",
       "      <td>Accident on OH-32 State Route 32 Westbound at ...</td>\n",
       "      <td>State Route 32</td>\n",
       "      <td>Williamsburg</td>\n",
       "      <td>Clermont</td>\n",
       "      <td>OH</td>\n",
       "      <td>45176</td>\n",
       "      <td>US</td>\n",
       "      <td>US/Eastern</td>\n",
       "      <td>KI69</td>\n",
       "      <td>2016-02-08 06:56:00</td>\n",
       "      <td>36.0</td>\n",
       "      <td>33.3</td>\n",
       "      <td>100.0</td>\n",
       "      <td>29.67</td>\n",
       "      <td>10.0</td>\n",
       "      <td>SW</td>\n",
       "      <td>3.5</td>\n",
       "      <td>NaN</td>\n",
       "      <td>Overcast</td>\n",
       "      <td>False</td>\n",
       "      <td>False</td>\n",
       "      <td>False</td>\n",
       "      <td>False</td>\n",
       "      <td>False</td>\n",
       "      <td>False</td>\n",
       "      <td>False</td>\n",
       "      <td>False</td>\n",
       "      <td>False</td>\n",
       "      <td>False</td>\n",
       "      <td>False</td>\n",
       "      <td>True</td>\n",
       "      <td>False</td>\n",
       "      <td>Night</td>\n",
       "      <td>Night</td>\n",
       "      <td>Day</td>\n",
       "      <td>Day</td>\n",
       "    </tr>\n",
       "  </tbody>\n",
       "</table>\n",
       "</div>"
      ],
      "text/plain": [
       "    ID   Source  Severity           Start_Time             End_Time  \\\n",
       "0  A-1  Source2         3  2016-02-08 05:46:00  2016-02-08 11:00:00   \n",
       "1  A-2  Source2         2  2016-02-08 06:07:59  2016-02-08 06:37:59   \n",
       "2  A-3  Source2         2  2016-02-08 06:49:27  2016-02-08 07:19:27   \n",
       "\n",
       "   Start_Lat  Start_Lng  End_Lat  End_Lng  Distance(mi)  \\\n",
       "0  39.865147 -84.058723      NaN      NaN          0.01   \n",
       "1  39.928059 -82.831184      NaN      NaN          0.01   \n",
       "2  39.063148 -84.032608      NaN      NaN          0.01   \n",
       "\n",
       "                                         Description          Street  \\\n",
       "0  Right lane blocked due to accident on I-70 Eas...          I-70 E   \n",
       "1  Accident on Brice Rd at Tussing Rd. Expect del...        Brice Rd   \n",
       "2  Accident on OH-32 State Route 32 Westbound at ...  State Route 32   \n",
       "\n",
       "           City      County State     Zipcode Country    Timezone  \\\n",
       "0        Dayton  Montgomery    OH       45424      US  US/Eastern   \n",
       "1  Reynoldsburg    Franklin    OH  43068-3402      US  US/Eastern   \n",
       "2  Williamsburg    Clermont    OH       45176      US  US/Eastern   \n",
       "\n",
       "  Airport_Code    Weather_Timestamp  Temperature(F)  Wind_Chill(F)  \\\n",
       "0         KFFO  2016-02-08 05:58:00            36.9            NaN   \n",
       "1         KCMH  2016-02-08 05:51:00            37.9            NaN   \n",
       "2         KI69  2016-02-08 06:56:00            36.0           33.3   \n",
       "\n",
       "   Humidity(%)  Pressure(in)  Visibility(mi) Wind_Direction  Wind_Speed(mph)  \\\n",
       "0         91.0         29.68            10.0           Calm              NaN   \n",
       "1        100.0         29.65            10.0           Calm              NaN   \n",
       "2        100.0         29.67            10.0             SW              3.5   \n",
       "\n",
       "   Precipitation(in) Weather_Condition  Amenity   Bump  Crossing  Give_Way  \\\n",
       "0               0.02        Light Rain    False  False     False     False   \n",
       "1               0.00        Light Rain    False  False     False     False   \n",
       "2                NaN          Overcast    False  False     False     False   \n",
       "\n",
       "   Junction  No_Exit  Railway  Roundabout  Station   Stop  Traffic_Calming  \\\n",
       "0     False    False    False       False    False  False            False   \n",
       "1     False    False    False       False    False  False            False   \n",
       "2     False    False    False       False    False  False            False   \n",
       "\n",
       "   Traffic_Signal  Turning_Loop Sunrise_Sunset Civil_Twilight  \\\n",
       "0           False         False          Night          Night   \n",
       "1           False         False          Night          Night   \n",
       "2            True         False          Night          Night   \n",
       "\n",
       "  Nautical_Twilight Astronomical_Twilight  \n",
       "0             Night                 Night  \n",
       "1             Night                   Day  \n",
       "2               Day                   Day  "
      ]
     },
     "execution_count": 9,
     "metadata": {},
     "output_type": "execute_result"
    }
   ],
   "source": [
    "# Set the Pandas display options to show all columns\n",
    "pd.set_option('display.max_columns', None)\n",
    "df.head(3)"
   ]
  },
  {
   "cell_type": "markdown",
   "metadata": {},
   "source": [
    "## Data Cleansing\n",
    "---\n",
    "\n",
    "This dataset contains a large amount of information for analysis. However, some of the fields may be overly complex and not contribute significantly to our analysis. Before proceeding further, I plan to streamline the dataset by removing the following fields:\n",
    "\n",
    "1. 'Id' and 'Source': These fields do not provide substantial information for our analysis.\n",
    "\n",
    "2. 'End_Lat' and 'End_Lng': We already have the starting coordinates, making these fields redundant.\n",
    "\n",
    "3. 'Airport_Code': Since all the data pertains to the USA, specifying the nearest airport code is unnecessary.\n",
    "\n",
    "4. 'Country': As mentioned earlier, all the data is related to the USA, so this field does not add value.\n",
    "\n",
    "5. 'Weather_Timestamp': We have other weather-related fields that are more relevant.\n",
    "\n",
    "6. 'Civil_Twilight', 'Nautical_Twilight', and 'Astronomical_Twilight': These fields may not be directly relevant to our analysis.\n",
    "\n",
    "7. 'Timezone': This information can be derived from other relevant fields.\n",
    "\n",
    "By removing these fields, we aim to simplify the dataset, making it more focused and efficient for our analysis."
   ]
  },
  {
   "cell_type": "code",
   "execution_count": 10,
   "metadata": {},
   "outputs": [],
   "source": [
    "# Specify the names of the columns to be dropped\n",
    "cols2drop = ['End_Lat', 'End_Lng', 'ID', 'Source', 'Airport_Code', 'Country', 'Weather_Timestamp', 'Civil_Twilight', 'Nautical_Twilight', 'Astronomical_Twilight', 'Timezone']\n",
    "\n",
    "# Use the drop() method to remove the specified columns\n",
    "df.drop(columns=cols2drop, inplace=True)"
   ]
  },
  {
   "cell_type": "markdown",
   "metadata": {},
   "source": [
    "**Quick overview of the Data:**\n",
    "\n",
    "In the following, a function is defined to show detailed overview of our data, and this function can be reused. "
   ]
  },
  {
   "cell_type": "code",
   "execution_count": 14,
   "metadata": {},
   "outputs": [
    {
     "name": "stdout",
     "output_type": "stream",
     "text": [
      "'----------------------------------------------------------------------'\n",
      "'No. of Rows: 7728394        No. of Columns : 35'\n",
      "'----------------------------------------------------------------------'\n",
      "                  DataType  Missing Values  Missing %  Unique Values  \\\n",
      "Severity             int64               0       0.00              4   \n",
      "Start_Time          object               0       0.00        6131796   \n",
      "End_Time            object               0       0.00        6705355   \n",
      "Start_Lat          float64               0       0.00        2428358   \n",
      "Start_Lng          float64               0       0.00        2482533   \n",
      "Distance(mi)       float64               0       0.00          22382   \n",
      "Description         object               5       0.00        3761578   \n",
      "Street              object           10869       0.14         336306   \n",
      "City                object             253       0.00          13678   \n",
      "County              object               0       0.00           1871   \n",
      "State               object               0       0.00             49   \n",
      "Zipcode             object            1915       0.02         825094   \n",
      "Temperature(F)     float64          163853       2.12            860   \n",
      "Wind_Chill(F)      float64         1999019      25.87           1001   \n",
      "Humidity(%)        float64          174144       2.25            100   \n",
      "Pressure(in)       float64          140679       1.82           1144   \n",
      "Visibility(mi)     float64          177098       2.29             92   \n",
      "Wind_Direction      object          175206       2.27             24   \n",
      "Wind_Speed(mph)    float64          571233       7.39            184   \n",
      "Precipitation(in)  float64         2203586      28.51            299   \n",
      "Weather_Condition   object          173459       2.24            144   \n",
      "Amenity               bool               0       0.00              2   \n",
      "Bump                  bool               0       0.00              2   \n",
      "Crossing              bool               0       0.00              2   \n",
      "Give_Way              bool               0       0.00              2   \n",
      "Junction              bool               0       0.00              2   \n",
      "No_Exit               bool               0       0.00              2   \n",
      "Railway               bool               0       0.00              2   \n",
      "Roundabout            bool               0       0.00              2   \n",
      "Station               bool               0       0.00              2   \n",
      "Stop                  bool               0       0.00              2   \n",
      "Traffic_Calming       bool               0       0.00              2   \n",
      "Traffic_Signal        bool               0       0.00              2   \n",
      "Turning_Loop          bool               0       0.00              1   \n",
      "Sunrise_Sunset      object           23246       0.30              2   \n",
      "\n",
      "                          Min          Q1     Median         Q3          Max  \n",
      "Severity             1.000000    2.000000   2.000000   2.000000     4.000000  \n",
      "Start_Time                NaN         NaN        NaN        NaN          NaN  \n",
      "End_Time                  NaN         NaN        NaN        NaN          NaN  \n",
      "Start_Lat           24.554800   33.399631  35.823974  40.084959    49.002201  \n",
      "Start_Lng         -124.623833 -117.219396 -87.766616 -80.353676   -67.113167  \n",
      "Distance(mi)         0.000000    0.000000   0.030000   0.464000   441.750000  \n",
      "Description               NaN         NaN        NaN        NaN          NaN  \n",
      "Street                    NaN         NaN        NaN        NaN          NaN  \n",
      "City                      NaN         NaN        NaN        NaN          NaN  \n",
      "County                    NaN         NaN        NaN        NaN          NaN  \n",
      "State                     NaN         NaN        NaN        NaN          NaN  \n",
      "Zipcode                   NaN         NaN        NaN        NaN          NaN  \n",
      "Temperature(F)     -89.000000   49.000000  64.000000  76.000000   207.000000  \n",
      "Wind_Chill(F)      -89.000000   43.000000  62.000000  75.000000   207.000000  \n",
      "Humidity(%)          1.000000   48.000000  67.000000  84.000000   100.000000  \n",
      "Pressure(in)         0.000000   29.370000  29.860000  30.030000    58.630000  \n",
      "Visibility(mi)       0.000000   10.000000  10.000000  10.000000   140.000000  \n",
      "Wind_Direction            NaN         NaN        NaN        NaN          NaN  \n",
      "Wind_Speed(mph)      0.000000    4.600000   7.000000  10.400000  1087.000000  \n",
      "Precipitation(in)    0.000000    0.000000   0.000000   0.000000    36.470000  \n",
      "Weather_Condition         NaN         NaN        NaN        NaN          NaN  \n",
      "Amenity                   NaN         NaN        NaN        NaN          NaN  \n",
      "Bump                      NaN         NaN        NaN        NaN          NaN  \n",
      "Crossing                  NaN         NaN        NaN        NaN          NaN  \n",
      "Give_Way                  NaN         NaN        NaN        NaN          NaN  \n",
      "Junction                  NaN         NaN        NaN        NaN          NaN  \n",
      "No_Exit                   NaN         NaN        NaN        NaN          NaN  \n",
      "Railway                   NaN         NaN        NaN        NaN          NaN  \n",
      "Roundabout                NaN         NaN        NaN        NaN          NaN  \n",
      "Station                   NaN         NaN        NaN        NaN          NaN  \n",
      "Stop                      NaN         NaN        NaN        NaN          NaN  \n",
      "Traffic_Calming           NaN         NaN        NaN        NaN          NaN  \n",
      "Traffic_Signal            NaN         NaN        NaN        NaN          NaN  \n",
      "Turning_Loop              NaN         NaN        NaN        NaN          NaN  \n",
      "Sunrise_Sunset            NaN         NaN        NaN        NaN          NaN  \n",
      "'----------------------------------------------------------------------'\n"
     ]
    }
   ],
   "source": [
    "from pprint import pprint\n",
    "\n",
    "def sanity_check(df):\n",
    "    pprint('-' * 70)\n",
    "    pprint('No. of Rows: {0[0]}        No. of Columns : {0[1]}'.format(df.shape))\n",
    "    pprint('-' * 70)\n",
    "    data_profile = pd.DataFrame(df.dtypes.reset_index()).rename(columns={'index': 'Attribute', 0: 'DataType'}).set_index('Attribute')\n",
    "\n",
    "    data_profile = pd.concat([data_profile, df.isnull().sum()], axis=1).rename(columns={0: 'Missing Values'})\n",
    "    data_profile = pd.concat([data_profile, (df.isnull().mean() * 100).round(2)], axis=1).rename(columns={0: 'Missing %'})\n",
    "    data_profile = pd.concat([data_profile, df.nunique()], axis=1).rename(columns={0: 'Unique Values'})\n",
    "\n",
    "    # Additional features for numeric columns\n",
    "    numeric_cols = df.select_dtypes(include=['number']).columns\n",
    "    numeric_stats = df[numeric_cols].describe().transpose()[['min', '25%', '50%', '75%', 'max']]\n",
    "    data_profile = pd.concat([data_profile, numeric_stats], axis=1).rename(columns={'min': 'Min', '25%': 'Q1', '50%': 'Median', '75%': 'Q3', 'max': 'Max'})\n",
    "\n",
    "    pprint(data_profile)\n",
    "    pprint('-' * 70)\n",
    "\n",
    "# Example usage:\n",
    "sanity_check(df)\n"
   ]
  },
  {
   "cell_type": "markdown",
   "metadata": {},
   "source": [
    "For the columns, **Precipitation(in), Wind_Chill(F), and Wind_Speed(mph)**, the missing data is in high percentage, removing missing data from these columns would cause us to lose a lot of data (around 3 million records). Therefore, we are going to impute them with the mean values of those fields."
   ]
  },
  {
   "cell_type": "code",
   "execution_count": 15,
   "metadata": {},
   "outputs": [],
   "source": [
    "df.dropna(subset=['Visibility(mi)', 'Wind_Direction', 'Description', 'Humidity(%)', 'Weather_Condition', 'Temperature(F)', 'Pressure(in)', 'Sunrise_Sunset', 'Street', 'Zipcode'], inplace=True)"
   ]
  },
  {
   "cell_type": "markdown",
   "metadata": {},
   "source": [
    "For the columns, **Precipitation(in), Wind_Chill(F), and Wind_Speed(mph)**, the missing data is in high percentage, removing missing data from these columns would cause us to lose a lot of data (around 3 million records). Therefore, we are going to impute them with the mean values of those fields."
   ]
  },
  {
   "cell_type": "code",
   "execution_count": 16,
   "metadata": {},
   "outputs": [],
   "source": [
    "columns = ['Precipitation(in)', 'Wind_Chill(F)', 'Wind_Speed(mph)']\n",
    "\n",
    "for c in columns:\n",
    "    df[c].fillna(df[c].mean(), inplace=True)"
   ]
  },
  {
   "cell_type": "markdown",
   "metadata": {},
   "source": [
    "Let's run the sanity check on the modified data."
   ]
  },
  {
   "cell_type": "code",
   "execution_count": 17,
   "metadata": {},
   "outputs": [
    {
     "name": "stdout",
     "output_type": "stream",
     "text": [
      "'----------------------------------------------------------------------'\n",
      "'No. of Rows: 7426729        No. of Columns : 35'\n",
      "'----------------------------------------------------------------------'\n",
      "                  DataType  Missing Values  Missing %  Unique Values  \\\n",
      "Severity             int64               0        0.0              4   \n",
      "Start_Time          object               0        0.0        5926304   \n",
      "End_Time            object               0        0.0        6470695   \n",
      "Start_Lat          float64               0        0.0        2347656   \n",
      "Start_Lng          float64               0        0.0        2396804   \n",
      "Distance(mi)       float64               0        0.0          21834   \n",
      "Description         object               0        0.0        3632562   \n",
      "Street              object               0        0.0         327345   \n",
      "City                object               0        0.0          12237   \n",
      "County              object               0        0.0           1813   \n",
      "State               object               0        0.0             49   \n",
      "Zipcode             object               0        0.0         800171   \n",
      "Temperature(F)     float64               0        0.0            845   \n",
      "Wind_Chill(F)      float64               0        0.0            994   \n",
      "Humidity(%)        float64               0        0.0            100   \n",
      "Pressure(in)       float64               0        0.0           1133   \n",
      "Visibility(mi)     float64               0        0.0             87   \n",
      "Wind_Direction      object               0        0.0             24   \n",
      "Wind_Speed(mph)    float64               0        0.0            180   \n",
      "Precipitation(in)  float64               0        0.0            289   \n",
      "Weather_Condition   object               0        0.0            142   \n",
      "Amenity               bool               0        0.0              2   \n",
      "Bump                  bool               0        0.0              2   \n",
      "Crossing              bool               0        0.0              2   \n",
      "Give_Way              bool               0        0.0              2   \n",
      "Junction              bool               0        0.0              2   \n",
      "No_Exit               bool               0        0.0              2   \n",
      "Railway               bool               0        0.0              2   \n",
      "Roundabout            bool               0        0.0              2   \n",
      "Station               bool               0        0.0              2   \n",
      "Stop                  bool               0        0.0              2   \n",
      "Traffic_Calming       bool               0        0.0              2   \n",
      "Traffic_Signal        bool               0        0.0              2   \n",
      "Turning_Loop          bool               0        0.0              1   \n",
      "Sunrise_Sunset      object               0        0.0              2   \n",
      "\n",
      "                          Min         Q1     Median         Q3          Max  \n",
      "Severity             1.000000    2.00000   2.000000   2.000000     4.000000  \n",
      "Start_Time                NaN        NaN        NaN        NaN          NaN  \n",
      "End_Time                  NaN        NaN        NaN        NaN          NaN  \n",
      "Start_Lat           24.554800   33.38563  35.794453  40.098913    49.002201  \n",
      "Start_Lng         -124.623833 -117.22596 -87.799118 -80.382027   -67.113167  \n",
      "Distance(mi)         0.000000    0.00000   0.027000   0.454000   441.750000  \n",
      "Description               NaN        NaN        NaN        NaN          NaN  \n",
      "Street                    NaN        NaN        NaN        NaN          NaN  \n",
      "City                      NaN        NaN        NaN        NaN          NaN  \n",
      "County                    NaN        NaN        NaN        NaN          NaN  \n",
      "State                     NaN        NaN        NaN        NaN          NaN  \n",
      "Zipcode                   NaN        NaN        NaN        NaN          NaN  \n",
      "Temperature(F)     -45.000000   49.00000  64.000000  76.000000   196.000000  \n",
      "Wind_Chill(F)      -63.000000   51.00000  58.287731  72.000000   196.000000  \n",
      "Humidity(%)          1.000000   48.00000  67.000000  84.000000   100.000000  \n",
      "Pressure(in)         0.000000   29.37000  29.860000  30.030000    58.630000  \n",
      "Visibility(mi)       0.000000   10.00000  10.000000  10.000000   140.000000  \n",
      "Wind_Direction            NaN        NaN        NaN        NaN          NaN  \n",
      "Wind_Speed(mph)      0.000000    4.60000   7.000000  10.000000  1087.000000  \n",
      "Precipitation(in)    0.000000    0.00000   0.000000   0.008021    36.470000  \n",
      "Weather_Condition         NaN        NaN        NaN        NaN          NaN  \n",
      "Amenity                   NaN        NaN        NaN        NaN          NaN  \n",
      "Bump                      NaN        NaN        NaN        NaN          NaN  \n",
      "Crossing                  NaN        NaN        NaN        NaN          NaN  \n",
      "Give_Way                  NaN        NaN        NaN        NaN          NaN  \n",
      "Junction                  NaN        NaN        NaN        NaN          NaN  \n",
      "No_Exit                   NaN        NaN        NaN        NaN          NaN  \n",
      "Railway                   NaN        NaN        NaN        NaN          NaN  \n",
      "Roundabout                NaN        NaN        NaN        NaN          NaN  \n",
      "Station                   NaN        NaN        NaN        NaN          NaN  \n",
      "Stop                      NaN        NaN        NaN        NaN          NaN  \n",
      "Traffic_Calming           NaN        NaN        NaN        NaN          NaN  \n",
      "Traffic_Signal            NaN        NaN        NaN        NaN          NaN  \n",
      "Turning_Loop              NaN        NaN        NaN        NaN          NaN  \n",
      "Sunrise_Sunset            NaN        NaN        NaN        NaN          NaN  \n",
      "'----------------------------------------------------------------------'\n"
     ]
    }
   ],
   "source": [
    "sanity_check(df)"
   ]
  },
  {
   "cell_type": "markdown",
   "metadata": {},
   "source": [
    "It's time to remove duplicate rows."
   ]
  },
  {
   "cell_type": "code",
   "execution_count": 18,
   "metadata": {},
   "outputs": [
    {
     "name": "stdout",
     "output_type": "stream",
     "text": [
      "Number of rows: 7426729\n",
      "Number of rows after dropping duplicates: 7329850\n"
     ]
    }
   ],
   "source": [
    "print(\"Number of rows:\", len(df.index))\n",
    "df.drop_duplicates(inplace=True)\n",
    "print(\"Number of rows after dropping duplicates:\", len(df.index))"
   ]
  },
  {
   "cell_type": "markdown",
   "metadata": {},
   "source": [
    "## Exploring Accidents: A Deep Dive into Data Insights (Raise questions that need answering)\n",
    "---"
   ]
  },
  {
   "cell_type": "markdown",
   "metadata": {},
   "source": [
    "### Question 1:"
   ]
  },
  {
   "cell_type": "markdown",
   "metadata": {},
   "source": [
    "#### The purpose of the question"
   ]
  },
  {
   "cell_type": "markdown",
   "metadata": {},
   "source": [
    "#### How to solve the question"
   ]
  },
  {
   "cell_type": "markdown",
   "metadata": {},
   "source": [
    "#### Pre-processing"
   ]
  },
  {
   "cell_type": "markdown",
   "metadata": {},
   "source": [
    "#### Exploratory Analysis and Visualization"
   ]
  },
  {
   "cell_type": "markdown",
   "metadata": {},
   "source": [
    "#### Answer the question"
   ]
  },
  {
   "cell_type": "markdown",
   "metadata": {},
   "source": [
    "### Question 2:"
   ]
  },
  {
   "cell_type": "markdown",
   "metadata": {},
   "source": [
    "#### The purpose of the question"
   ]
  },
  {
   "cell_type": "markdown",
   "metadata": {},
   "source": [
    "#### How to solve the question"
   ]
  },
  {
   "cell_type": "markdown",
   "metadata": {},
   "source": [
    "#### Pre-processing"
   ]
  },
  {
   "cell_type": "markdown",
   "metadata": {},
   "source": [
    "#### Exploratory Analysis and Visualization"
   ]
  },
  {
   "cell_type": "markdown",
   "metadata": {},
   "source": [
    "#### Answer the question"
   ]
  },
  {
   "cell_type": "markdown",
   "metadata": {},
   "source": [
    "### Question 3:"
   ]
  },
  {
   "cell_type": "markdown",
   "metadata": {},
   "source": [
    "#### The purpose of the question"
   ]
  },
  {
   "cell_type": "markdown",
   "metadata": {},
   "source": [
    "#### How to solve the question"
   ]
  },
  {
   "cell_type": "markdown",
   "metadata": {},
   "source": [
    "#### Pre-processing"
   ]
  },
  {
   "cell_type": "markdown",
   "metadata": {},
   "source": [
    "#### Exploratory Analysis and Visualization"
   ]
  },
  {
   "cell_type": "markdown",
   "metadata": {},
   "source": [
    "#### Answer the question"
   ]
  },
  {
   "cell_type": "markdown",
   "metadata": {},
   "source": [
    "### Question 4:"
   ]
  },
  {
   "cell_type": "markdown",
   "metadata": {},
   "source": [
    "#### The purpose of the question"
   ]
  },
  {
   "cell_type": "markdown",
   "metadata": {},
   "source": [
    "#### How to solve the question"
   ]
  },
  {
   "cell_type": "markdown",
   "metadata": {},
   "source": [
    "#### Pre-processing"
   ]
  },
  {
   "cell_type": "markdown",
   "metadata": {},
   "source": [
    "#### Exploratory Analysis and Visualization"
   ]
  },
  {
   "cell_type": "markdown",
   "metadata": {},
   "source": [
    "#### Answer the question"
   ]
  },
  {
   "cell_type": "markdown",
   "metadata": {},
   "source": [
    "## Reflection"
   ]
  },
  {
   "cell_type": "markdown",
   "metadata": {},
   "source": [
    "## References"
   ]
  }
 ],
 "metadata": {
  "kernelspec": {
   "display_name": "min_ds-env",
   "language": "python",
   "name": "python3"
  },
  "language_info": {
   "codemirror_mode": {
    "name": "ipython",
    "version": 3
   },
   "file_extension": ".py",
   "mimetype": "text/x-python",
   "name": "python",
   "nbconvert_exporter": "python",
   "pygments_lexer": "ipython3",
   "version": "3.11.5"
  }
 },
 "nbformat": 4,
 "nbformat_minor": 2
}
