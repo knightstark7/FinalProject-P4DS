{
 "cells": [
  {
   "cell_type": "markdown",
   "metadata": {},
   "source": [
    "# Final Project - Programming For Data Science - 21KHDL1\n",
    "\n",
    "## VNU HCM - University of Science\n",
    "---"
   ]
  },
  {
   "cell_type": "markdown",
   "metadata": {},
   "source": [
    "## Member Information\n",
    "| Name              | ID       |\n",
    "|-------------------|----------|\n",
    "| Tran Nguyen Huan  | 21127050 |\n",
    "| Nguyen Phat Dat   | 21127240 |"
   ]
  },
  {
   "cell_type": "markdown",
   "metadata": {},
   "source": [
    "# Table of Contents"
   ]
  },
  {
   "cell_type": "markdown",
   "metadata": {},
   "source": [
    "## Overview\n",
    "---"
   ]
  },
  {
   "cell_type": "markdown",
   "metadata": {},
   "source": [
    "<h3>\n",
    "    <b>\n",
    "    US Accidents (2016 - 2023)\n",
    "    </b>\n",
    "</h3>\n",
    "    <img style=\"padding:10px\" src=\"https://hire.refactored.ai/upload-nct/portfolio_images/253/1626148168_GqMh6a2U.png\" width=\"800\"/>\n",
    "</center>\n",
    "This is a countrywide car accident dataset that were collected using multiple APIs that provide streaming traffic incident (or event) data. These APIs broadcast traffic data captured by various entities, including the US and state departments of transportation, law enforcement agencies, traffic cameras, and traffic sensors within the road networks.\n",
    "\n",
    "The data covers _49 states of the USA_ from _February 2016 to March 2023_. \n",
    "\n",
    "Note that the original dataset contains approximately __7.7 million records__ which is too large for our purpose (mostly data analysis). Therefore, we will just use a sampled version of this dataset which contains only __500.000 accident records__.\n",
    "\n",
    "Visit [here](https://smoosavi.org/datasets/us_accidents) for more information about the dataset.\n",
    "\n",
    "This Dataset can be accessed [here](https://doi.org/10.34740/KAGGLE/DS/199387): Sobhan Moosavi. (2023). <i>US Accidents (2016 - 2023)</i> Kaggle. Or [here](https://drive.google.com/file/d/1U3u8QYzLjnEaSurtZfSAS_oh9AT2Mn8X) for the sampled data.\n",
    "<center>\n"
   ]
  },
  {
   "cell_type": "markdown",
   "metadata": {},
   "source": [
    "__Goal:__ The primary goal of the project is to analyze and generate insights on the traffic accidents that took place in USA from Feb. 2016 to Mar. 2023."
   ]
  },
  {
   "cell_type": "markdown",
   "metadata": {},
   "source": [
    "## Usage Policy and Legal Disclaimer\n",
    "---\n",
    "This dataset is being distributed solely for research purposes under the Creative Commons Attribution-Noncommercial-ShareAlike license (CC BY-NC-SA 4.0). By downloading the dataset, we agree to use it only for non-commercial, research, or academic applications."
   ]
  },
  {
   "cell_type": "markdown",
   "metadata": {
    "vscode": {
     "languageId": "plaintext"
    }
   },
   "source": [
    "## Code Environment\n",
    "---"
   ]
  },
  {
   "cell_type": "code",
   "execution_count": 7,
   "metadata": {},
   "outputs": [
    {
     "data": {
      "text/plain": [
       "'/home/datlinux/anaconda3/envs/min_ds-env/bin/python'"
      ]
     },
     "execution_count": 7,
     "metadata": {},
     "output_type": "execute_result"
    }
   ],
   "source": [
    "import sys\n",
    "sys.executable"
   ]
  },
  {
   "cell_type": "markdown",
   "metadata": {},
   "source": [
    "## Import necessary libraries\n",
    "---"
   ]
  },
  {
   "cell_type": "code",
   "execution_count": 2,
   "metadata": {},
   "outputs": [],
   "source": [
    "import numpy as np\n",
    "import pandas as pd\n",
    "from pprint import pprint"
   ]
  },
  {
   "cell_type": "markdown",
   "metadata": {},
   "source": [
    "## Dataset Import\n",
    "---\n",
    "\n",
    "In the first place we are going to import the dataset using Pandas module."
   ]
  },
  {
   "cell_type": "code",
   "execution_count": 3,
   "metadata": {},
   "outputs": [],
   "source": [
    "df = pd.read_csv(\"Data/US_Accidents_March23_sampled_500k.csv\")"
   ]
  },
  {
   "cell_type": "markdown",
   "metadata": {},
   "source": [
    "Let's take a quick look at our data by examining the number of rows, columns.  "
   ]
  },
  {
   "cell_type": "code",
   "execution_count": 4,
   "metadata": {},
   "outputs": [
    {
     "name": "stdout",
     "output_type": "stream",
     "text": [
      "Shape: (500000, 46)\n"
     ]
    }
   ],
   "source": [
    "# print out the shape to know number of rows and columns\n",
    "print(\"Shape:\", df.shape)"
   ]
  },
  {
   "cell_type": "markdown",
   "metadata": {},
   "source": [
    "There are __500.000__ records of accidents in our data with each has __46__ features about that accident.\n",
    "\n",
    "The number of features here are a little too large, which might result in truncating when the data is being displayed. Therefore, we will set a larger the number of max columns in case this is not handled automatically."
   ]
  },
  {
   "cell_type": "code",
   "execution_count": 5,
   "metadata": {},
   "outputs": [],
   "source": [
    "# Set the Pandas display options to show all columns\n",
    "pd.set_option('display.max_columns', 50)"
   ]
  },
  {
   "cell_type": "markdown",
   "metadata": {},
   "source": [
    "Then, print out some samples to get a quick insight from our data."
   ]
  },
  {
   "cell_type": "code",
   "execution_count": 6,
   "metadata": {},
   "outputs": [
    {
     "data": {
      "text/html": [
       "<div>\n",
       "<style scoped>\n",
       "    .dataframe tbody tr th:only-of-type {\n",
       "        vertical-align: middle;\n",
       "    }\n",
       "\n",
       "    .dataframe tbody tr th {\n",
       "        vertical-align: top;\n",
       "    }\n",
       "\n",
       "    .dataframe thead th {\n",
       "        text-align: right;\n",
       "    }\n",
       "</style>\n",
       "<table border=\"1\" class=\"dataframe\">\n",
       "  <thead>\n",
       "    <tr style=\"text-align: right;\">\n",
       "      <th></th>\n",
       "      <th>ID</th>\n",
       "      <th>Source</th>\n",
       "      <th>Severity</th>\n",
       "      <th>Start_Time</th>\n",
       "      <th>End_Time</th>\n",
       "      <th>Start_Lat</th>\n",
       "      <th>Start_Lng</th>\n",
       "      <th>End_Lat</th>\n",
       "      <th>End_Lng</th>\n",
       "      <th>Distance(mi)</th>\n",
       "      <th>Description</th>\n",
       "      <th>Street</th>\n",
       "      <th>City</th>\n",
       "      <th>County</th>\n",
       "      <th>State</th>\n",
       "      <th>Zipcode</th>\n",
       "      <th>Country</th>\n",
       "      <th>Timezone</th>\n",
       "      <th>Airport_Code</th>\n",
       "      <th>Weather_Timestamp</th>\n",
       "      <th>Temperature(F)</th>\n",
       "      <th>Wind_Chill(F)</th>\n",
       "      <th>Humidity(%)</th>\n",
       "      <th>Pressure(in)</th>\n",
       "      <th>Visibility(mi)</th>\n",
       "      <th>Wind_Direction</th>\n",
       "      <th>Wind_Speed(mph)</th>\n",
       "      <th>Precipitation(in)</th>\n",
       "      <th>Weather_Condition</th>\n",
       "      <th>Amenity</th>\n",
       "      <th>Bump</th>\n",
       "      <th>Crossing</th>\n",
       "      <th>Give_Way</th>\n",
       "      <th>Junction</th>\n",
       "      <th>No_Exit</th>\n",
       "      <th>Railway</th>\n",
       "      <th>Roundabout</th>\n",
       "      <th>Station</th>\n",
       "      <th>Stop</th>\n",
       "      <th>Traffic_Calming</th>\n",
       "      <th>Traffic_Signal</th>\n",
       "      <th>Turning_Loop</th>\n",
       "      <th>Sunrise_Sunset</th>\n",
       "      <th>Civil_Twilight</th>\n",
       "      <th>Nautical_Twilight</th>\n",
       "      <th>Astronomical_Twilight</th>\n",
       "    </tr>\n",
       "  </thead>\n",
       "  <tbody>\n",
       "    <tr>\n",
       "      <th>37356</th>\n",
       "      <td>A-7237468</td>\n",
       "      <td>Source1</td>\n",
       "      <td>2</td>\n",
       "      <td>2020-01-24 13:44:00</td>\n",
       "      <td>2020-01-24 14:53:15</td>\n",
       "      <td>34.121559</td>\n",
       "      <td>-117.696732</td>\n",
       "      <td>34.121559</td>\n",
       "      <td>-117.696732</td>\n",
       "      <td>0.000</td>\n",
       "      <td>At Towne Ave/Exit 50 - Accident.</td>\n",
       "      <td>CA-210 W</td>\n",
       "      <td>Claremont</td>\n",
       "      <td>Los Angeles</td>\n",
       "      <td>CA</td>\n",
       "      <td>91711</td>\n",
       "      <td>US</td>\n",
       "      <td>US/Pacific</td>\n",
       "      <td>KPOC</td>\n",
       "      <td>2020-01-24 13:47:00</td>\n",
       "      <td>72.0</td>\n",
       "      <td>72.0</td>\n",
       "      <td>35.0</td>\n",
       "      <td>28.90</td>\n",
       "      <td>10.0</td>\n",
       "      <td>W</td>\n",
       "      <td>7.0</td>\n",
       "      <td>NaN</td>\n",
       "      <td>Fair</td>\n",
       "      <td>False</td>\n",
       "      <td>False</td>\n",
       "      <td>False</td>\n",
       "      <td>False</td>\n",
       "      <td>False</td>\n",
       "      <td>False</td>\n",
       "      <td>False</td>\n",
       "      <td>False</td>\n",
       "      <td>False</td>\n",
       "      <td>False</td>\n",
       "      <td>False</td>\n",
       "      <td>False</td>\n",
       "      <td>False</td>\n",
       "      <td>Day</td>\n",
       "      <td>Day</td>\n",
       "      <td>Day</td>\n",
       "      <td>Day</td>\n",
       "    </tr>\n",
       "    <tr>\n",
       "      <th>338775</th>\n",
       "      <td>A-5349827</td>\n",
       "      <td>Source1</td>\n",
       "      <td>2</td>\n",
       "      <td>2023-01-25 08:08:00</td>\n",
       "      <td>2023-01-25 10:36:30</td>\n",
       "      <td>45.040444</td>\n",
       "      <td>-93.096902</td>\n",
       "      <td>45.066832</td>\n",
       "      <td>-93.240968</td>\n",
       "      <td>7.264</td>\n",
       "      <td>Slow traffic on I-694 W - US-10 W from I-35E/I...</td>\n",
       "      <td>I-694 W</td>\n",
       "      <td>Saint Paul</td>\n",
       "      <td>Ramsey</td>\n",
       "      <td>MN</td>\n",
       "      <td>55127</td>\n",
       "      <td>US</td>\n",
       "      <td>US/Central</td>\n",
       "      <td>KANE</td>\n",
       "      <td>2023-01-25 07:45:00</td>\n",
       "      <td>27.0</td>\n",
       "      <td>21.0</td>\n",
       "      <td>100.0</td>\n",
       "      <td>28.87</td>\n",
       "      <td>5.0</td>\n",
       "      <td>NNW</td>\n",
       "      <td>5.0</td>\n",
       "      <td>0.0</td>\n",
       "      <td>Light Snow</td>\n",
       "      <td>False</td>\n",
       "      <td>False</td>\n",
       "      <td>False</td>\n",
       "      <td>False</td>\n",
       "      <td>False</td>\n",
       "      <td>False</td>\n",
       "      <td>False</td>\n",
       "      <td>False</td>\n",
       "      <td>False</td>\n",
       "      <td>False</td>\n",
       "      <td>False</td>\n",
       "      <td>False</td>\n",
       "      <td>False</td>\n",
       "      <td>Day</td>\n",
       "      <td>Day</td>\n",
       "      <td>Day</td>\n",
       "      <td>Day</td>\n",
       "    </tr>\n",
       "    <tr>\n",
       "      <th>399121</th>\n",
       "      <td>A-1557969</td>\n",
       "      <td>Source2</td>\n",
       "      <td>2</td>\n",
       "      <td>2020-04-17 08:34:12</td>\n",
       "      <td>2020-04-17 09:52:16</td>\n",
       "      <td>35.869701</td>\n",
       "      <td>-78.497253</td>\n",
       "      <td>NaN</td>\n",
       "      <td>NaN</td>\n",
       "      <td>0.000</td>\n",
       "      <td>Accident on Watkins Rd at Jonesbay Ln.</td>\n",
       "      <td>Watkins Town Rd</td>\n",
       "      <td>Raleigh</td>\n",
       "      <td>Wake</td>\n",
       "      <td>NC</td>\n",
       "      <td>27616-8585</td>\n",
       "      <td>US</td>\n",
       "      <td>US/Eastern</td>\n",
       "      <td>KRDU</td>\n",
       "      <td>2020-04-17 08:51:00</td>\n",
       "      <td>53.0</td>\n",
       "      <td>53.0</td>\n",
       "      <td>59.0</td>\n",
       "      <td>29.88</td>\n",
       "      <td>10.0</td>\n",
       "      <td>CALM</td>\n",
       "      <td>0.0</td>\n",
       "      <td>0.0</td>\n",
       "      <td>Fair</td>\n",
       "      <td>False</td>\n",
       "      <td>False</td>\n",
       "      <td>False</td>\n",
       "      <td>False</td>\n",
       "      <td>False</td>\n",
       "      <td>False</td>\n",
       "      <td>False</td>\n",
       "      <td>False</td>\n",
       "      <td>False</td>\n",
       "      <td>False</td>\n",
       "      <td>False</td>\n",
       "      <td>False</td>\n",
       "      <td>False</td>\n",
       "      <td>Day</td>\n",
       "      <td>Day</td>\n",
       "      <td>Day</td>\n",
       "      <td>Day</td>\n",
       "    </tr>\n",
       "    <tr>\n",
       "      <th>274196</th>\n",
       "      <td>A-5618148</td>\n",
       "      <td>Source1</td>\n",
       "      <td>2</td>\n",
       "      <td>2021-04-02 04:44:30</td>\n",
       "      <td>2021-04-02 17:54:40</td>\n",
       "      <td>37.664411</td>\n",
       "      <td>-97.482077</td>\n",
       "      <td>37.665613</td>\n",
       "      <td>-97.480609</td>\n",
       "      <td>0.116</td>\n",
       "      <td>Slow traffic on US-54 E - US-400 E from S Horn...</td>\n",
       "      <td>W Harry St</td>\n",
       "      <td>Wichita</td>\n",
       "      <td>Sedgwick</td>\n",
       "      <td>KS</td>\n",
       "      <td>67235</td>\n",
       "      <td>US</td>\n",
       "      <td>US/Central</td>\n",
       "      <td>KICT</td>\n",
       "      <td>2021-04-02 04:53:00</td>\n",
       "      <td>39.0</td>\n",
       "      <td>31.0</td>\n",
       "      <td>55.0</td>\n",
       "      <td>28.85</td>\n",
       "      <td>10.0</td>\n",
       "      <td>SSE</td>\n",
       "      <td>13.0</td>\n",
       "      <td>0.0</td>\n",
       "      <td>Fair</td>\n",
       "      <td>False</td>\n",
       "      <td>False</td>\n",
       "      <td>False</td>\n",
       "      <td>False</td>\n",
       "      <td>False</td>\n",
       "      <td>False</td>\n",
       "      <td>False</td>\n",
       "      <td>False</td>\n",
       "      <td>False</td>\n",
       "      <td>False</td>\n",
       "      <td>False</td>\n",
       "      <td>False</td>\n",
       "      <td>False</td>\n",
       "      <td>Night</td>\n",
       "      <td>Night</td>\n",
       "      <td>Night</td>\n",
       "      <td>Night</td>\n",
       "    </tr>\n",
       "  </tbody>\n",
       "</table>\n",
       "</div>"
      ],
      "text/plain": [
       "               ID   Source  Severity           Start_Time  \\\n",
       "37356   A-7237468  Source1         2  2020-01-24 13:44:00   \n",
       "338775  A-5349827  Source1         2  2023-01-25 08:08:00   \n",
       "399121  A-1557969  Source2         2  2020-04-17 08:34:12   \n",
       "274196  A-5618148  Source1         2  2021-04-02 04:44:30   \n",
       "\n",
       "                   End_Time  Start_Lat   Start_Lng    End_Lat     End_Lng  \\\n",
       "37356   2020-01-24 14:53:15  34.121559 -117.696732  34.121559 -117.696732   \n",
       "338775  2023-01-25 10:36:30  45.040444  -93.096902  45.066832  -93.240968   \n",
       "399121  2020-04-17 09:52:16  35.869701  -78.497253        NaN         NaN   \n",
       "274196  2021-04-02 17:54:40  37.664411  -97.482077  37.665613  -97.480609   \n",
       "\n",
       "        Distance(mi)                                        Description  \\\n",
       "37356          0.000                   At Towne Ave/Exit 50 - Accident.   \n",
       "338775         7.264  Slow traffic on I-694 W - US-10 W from I-35E/I...   \n",
       "399121         0.000             Accident on Watkins Rd at Jonesbay Ln.   \n",
       "274196         0.116  Slow traffic on US-54 E - US-400 E from S Horn...   \n",
       "\n",
       "                 Street        City       County State     Zipcode Country  \\\n",
       "37356          CA-210 W   Claremont  Los Angeles    CA       91711      US   \n",
       "338775          I-694 W  Saint Paul       Ramsey    MN       55127      US   \n",
       "399121  Watkins Town Rd     Raleigh         Wake    NC  27616-8585      US   \n",
       "274196       W Harry St     Wichita     Sedgwick    KS       67235      US   \n",
       "\n",
       "          Timezone Airport_Code    Weather_Timestamp  Temperature(F)  \\\n",
       "37356   US/Pacific         KPOC  2020-01-24 13:47:00            72.0   \n",
       "338775  US/Central         KANE  2023-01-25 07:45:00            27.0   \n",
       "399121  US/Eastern         KRDU  2020-04-17 08:51:00            53.0   \n",
       "274196  US/Central         KICT  2021-04-02 04:53:00            39.0   \n",
       "\n",
       "        Wind_Chill(F)  Humidity(%)  Pressure(in)  Visibility(mi)  \\\n",
       "37356            72.0         35.0         28.90            10.0   \n",
       "338775           21.0        100.0         28.87             5.0   \n",
       "399121           53.0         59.0         29.88            10.0   \n",
       "274196           31.0         55.0         28.85            10.0   \n",
       "\n",
       "       Wind_Direction  Wind_Speed(mph)  Precipitation(in) Weather_Condition  \\\n",
       "37356               W              7.0                NaN              Fair   \n",
       "338775            NNW              5.0                0.0        Light Snow   \n",
       "399121           CALM              0.0                0.0              Fair   \n",
       "274196            SSE             13.0                0.0              Fair   \n",
       "\n",
       "        Amenity   Bump  Crossing  Give_Way  Junction  No_Exit  Railway  \\\n",
       "37356     False  False     False     False     False    False    False   \n",
       "338775    False  False     False     False     False    False    False   \n",
       "399121    False  False     False     False     False    False    False   \n",
       "274196    False  False     False     False     False    False    False   \n",
       "\n",
       "        Roundabout  Station   Stop  Traffic_Calming  Traffic_Signal  \\\n",
       "37356        False    False  False            False           False   \n",
       "338775       False    False  False            False           False   \n",
       "399121       False    False  False            False           False   \n",
       "274196       False    False  False            False           False   \n",
       "\n",
       "        Turning_Loop Sunrise_Sunset Civil_Twilight Nautical_Twilight  \\\n",
       "37356          False            Day            Day               Day   \n",
       "338775         False            Day            Day               Day   \n",
       "399121         False            Day            Day               Day   \n",
       "274196         False          Night          Night             Night   \n",
       "\n",
       "       Astronomical_Twilight  \n",
       "37356                    Day  \n",
       "338775                   Day  \n",
       "399121                   Day  \n",
       "274196                 Night  "
      ]
     },
     "execution_count": 6,
     "metadata": {},
     "output_type": "execute_result"
    }
   ],
   "source": [
    "# examine 4 random samples from the data\n",
    "df.sample(4)"
   ]
  },
  {
   "cell_type": "markdown",
   "metadata": {},
   "source": [
    "## Features explanation\n",
    "There are __46__ features in our dataset, include:\n",
    "1. `ID`: A unique identifier of the accident record.\n",
    "2. `Source`: Source of raw accident data (it were collected from two different sources).\n",
    "3. `Severity`: The severity of the accident by a number between 1 and 4, where 1 indicates the least impact on traffic (i.e., short delay as a result of the accident) and 4 indicates a significant impact on traffic (i.e., long delay).\n",
    "4. `Start_Time`: Start time of the accident in local time zone.\n",
    "5. `End_Time`: Refers to when the impact of accident on traffic flow was dismissed.\n",
    "6. `Start_Lat`: Latitude in GPS coordinate of the start point.\n",
    "7. `Start_Lng`: Longitude in GPS coordinate of the start point.\n",
    "8. `End_Lat`: same as above but for the end point.\n",
    "9. `End_Lng`: same as above but for the end point.\n",
    "10. `Distance(mi)`: The length of the road extent affected by the accident (in _miles_).\n",
    "11. `Description`: Shows a human provided description of the accident.\n",
    "12. `Street`: Shows the street name in address field.\n",
    "13. `City`: City name.\n",
    "14. `County`: Country name.\n",
    "15. `State`: State name.\n",
    "16. `Zipcode`: Zipcode.\n",
    "17. `Country`: Country in address field (this field is different from above field).\n",
    "18. `Timezone`: Shows timezone based on the location of the accident (eastern, central, etc.).\n",
    "19. `Airport_Code`: Denotes an airport-based weather station which is the closest one to location of the accident.\n",
    "20. `Weather_Timestamp`: Time-stamp of weather observation record.\n",
    "21. `Temperature(F)`: Temperature (in Fahrenheit).\n",
    "22. `Wind_Chill(F)`: Wind chill (in Fahrenheit).\n",
    "23. `Humidity(%)`: Humidity (in percentage).\n",
    "24. `Pressure(in)`: Air pressure (in inches).\n",
    "25. `Visibility(mi)`: Visibility (in miles).\n",
    "26. `Wind_Direction`: Wind direction.\n",
    "27. `Wind_Speed(mph)`: Wind speed (in miles per hour).\n",
    "28. `Precipitation(in)`: Precipitation amount in inches.\n",
    "29. `Weather_Condition`: Weather condition (rain, snow, thunderstorm, fog, etc.)\n",
    "30. `Amenity`: Amenity in a nearby location (true/false).\n",
    "31. `Bump`: Speed bump or hump in a nearby location (true/false).\n",
    "32. `Crossing`: Crossing in a nearby location (true/false).\n",
    "33. `Give_Way`: Give_way in a nearby location (true/false).\n",
    "34. `Junction`: Junction in a nearby location (true/false).\n",
    "35. `No_Exit`: No_exit in a nearby location (true/false).\n",
    "36. `Railway`: Railway in a nearby location (true/false).\n",
    "37. `Roundabout`: Roundabout in a nearby location (true/false).\n",
    "38. `Station`: Station in a nearby location (true/false).\n",
    "39. `Stop`: Stop in a nearby location (true/false).\n",
    "40. `Traffic_Calming`: Traffic_calming in a nearby location (true/false).\n",
    "41. `Traffic_Signal`: Traffic_signal in a nearby location (true/false).\n",
    "42. `Turning_Loop`: Turning_loop in a nearby location (true/false).\n",
    "43. `Sunrise_Sunset`: based on sunrise/sunset (day/night).\n",
    "44. `Civil_Twilight`: based on civil twilight (day/night).\n",
    "45. `Nautical_Twilight`: based on nautical twilight (day/night).\n",
    "46. `Astronomical_Twilight`: based on astronomical twilight (day/night)."
   ]
  },
  {
   "cell_type": "markdown",
   "metadata": {},
   "source": [
    "## Data Cleansing\n",
    "---\n",
    "\n",
    "This dataset contains a large amount of information for analysis. However, some of the fields may be overly complex and not contribute significantly to our analysis. Before proceeding further, I plan to streamline the dataset by removing the following fields:\n",
    "\n",
    "1. `ID`: We will replace the this field with the simple numeric index to reduce memory consumption.\n",
    "\n",
    "2. `Source`: This field do not provide substantial information for our analysis.\n",
    "\n",
    "3. `End_Lat` and `End_Lng`: Because normally we only need to know where the accidents happen, so the starting coordinates (`Start_Lat` and `Start_Lng`) are enough. However, we can consider using those ending points of the accidents in some other problems.\n",
    "\n",
    "4. `Airport_Code`: Specifying the nearest airport code is unnecessary in our problem.\n",
    "\n",
    "5. `Country`: As mentioned earlier, all the data is related to the USA, so this field does not add value.\n",
    "\n",
    "6. `Weather_Timestamp`: This field is not neccessary since we have `Start_Time` and `End_Time`.\n",
    "\n",
    "7. `Civil_Twilight`, `Nautical_Twilight`, and `Astronomical_Twilight`: These fields may not be directly relevant to our analysis, since we can derive the period of day (_Day_ and _Night_ ) directly from the time data (`Start_Time` and `End_Time`) and our analysis mostly focus on normal people.\n",
    "\n",
    "8. `Timezone`: This information can be derived from other relevant fields.\n",
    "\n",
    "9. `Description`: This field may be neccessary in some cases (to get a quick insight about the accident), but the field is provided by human natural language which is not easy to be processed and this task is also out of our scope in this project.\n",
    "\n",
    "By removing these fields, we aim to simplify the dataset, making it more focused and efficient for our analysis."
   ]
  },
  {
   "cell_type": "code",
   "execution_count": null,
   "metadata": {},
   "outputs": [],
   "source": [
    "# Specify the names of the columns to be dropped\n",
    "cols2drop = ['End_Lat', 'End_Lng', 'ID', 'Source', 'Airport_Code', 'Country', 'Weather_Timestamp', 'Civil_Twilight', 'Nautical_Twilight', 'Astronomical_Twilight', 'Timezone']\n",
    "\n",
    "# Use the drop() method to remove the specified columns\n",
    "df.drop(columns=cols2drop, inplace=True)"
   ]
  },
  {
   "cell_type": "markdown",
   "metadata": {},
   "source": [
    "**Quick overview of the Data:**\n",
    "\n",
    "In the following, a function is defined to show detailed overview of our data, and this function can be reused. "
   ]
  },
  {
   "cell_type": "code",
   "execution_count": null,
   "metadata": {},
   "outputs": [],
   "source": [
    "from pprint import pprint\n",
    "\n",
    "def sanity_check(df):\n",
    "    pprint('-' * 70)\n",
    "    pprint('No. of Rows: {0[0]}        No. of Columns : {0[1]}'.format(df.shape))\n",
    "    pprint('-' * 70)\n",
    "    data_profile = pd.DataFrame(df.dtypes.reset_index()).rename(columns={'index': 'Attribute', 0: 'DataType'}).set_index('Attribute')\n",
    "\n",
    "    data_profile = pd.concat([data_profile, df.isnull().sum()], axis=1).rename(columns={0: 'Missing Values'})\n",
    "    data_profile = pd.concat([data_profile, (df.isnull().mean() * 100).round(2)], axis=1).rename(columns={0: 'Missing %'})\n",
    "    data_profile = pd.concat([data_profile, df.nunique()], axis=1).rename(columns={0: 'Unique Values'})\n",
    "\n",
    "    # Additional features for numeric columns\n",
    "    numeric_cols = df.select_dtypes(include=['number']).columns\n",
    "    numeric_stats = df[numeric_cols].describe().transpose()[['min', '25%', '50%', '75%', 'max']]\n",
    "    data_profile = pd.concat([data_profile, numeric_stats], axis=1).rename(columns={'min': 'Min', '25%': 'Q1', '50%': 'Median', '75%': 'Q3', 'max': 'Max'})\n",
    "\n",
    "    pprint(data_profile)\n",
    "    pprint('-' * 70)\n",
    "\n",
    "# Example usage:\n",
    "sanity_check(df)\n"
   ]
  },
  {
   "cell_type": "markdown",
   "metadata": {},
   "source": [
    "For the columns, **Precipitation(in), Wind_Chill(F), and Wind_Speed(mph)**, the missing data is in high percentage, removing missing data from these columns would cause us to lose a lot of data (around 3 million records). Therefore, we are going to impute them with the mean values of those fields."
   ]
  },
  {
   "cell_type": "code",
   "execution_count": null,
   "metadata": {},
   "outputs": [],
   "source": [
    "df.dropna(subset=['Visibility(mi)', 'Wind_Direction', 'Description', 'Humidity(%)', 'Weather_Condition', 'Temperature(F)', 'Pressure(in)', 'Sunrise_Sunset', 'Street', 'Zipcode'], inplace=True)"
   ]
  },
  {
   "cell_type": "markdown",
   "metadata": {},
   "source": [
    "For the columns, **Precipitation(in), Wind_Chill(F), and Wind_Speed(mph)**, the missing data is in high percentage, removing missing data from these columns would cause us to lose a lot of data (around 3 million records). Therefore, we are going to impute them with the mean values of those fields."
   ]
  },
  {
   "cell_type": "code",
   "execution_count": null,
   "metadata": {},
   "outputs": [],
   "source": [
    "columns = ['Precipitation(in)', 'Wind_Chill(F)', 'Wind_Speed(mph)']\n",
    "\n",
    "for c in columns:\n",
    "    df[c].fillna(df[c].mean(), inplace=True)"
   ]
  },
  {
   "cell_type": "markdown",
   "metadata": {},
   "source": [
    "Let's run the sanity check on the modified data."
   ]
  },
  {
   "cell_type": "code",
   "execution_count": null,
   "metadata": {},
   "outputs": [],
   "source": [
    "sanity_check(df)"
   ]
  },
  {
   "cell_type": "markdown",
   "metadata": {},
   "source": [
    "It's time to remove duplicate rows."
   ]
  },
  {
   "cell_type": "code",
   "execution_count": null,
   "metadata": {},
   "outputs": [],
   "source": [
    "print(\"Number of rows:\", len(df.index))\n",
    "df.drop_duplicates(inplace=True)\n",
    "print(\"Number of rows after dropping duplicates:\", len(df.index))"
   ]
  },
  {
   "cell_type": "markdown",
   "metadata": {},
   "source": [
    "## Exploring Accidents: A Deep Dive into Data Insights (Raise questions that need answering)\n",
    "---"
   ]
  },
  {
   "cell_type": "markdown",
   "metadata": {},
   "source": [
    "### Question 1:"
   ]
  },
  {
   "cell_type": "markdown",
   "metadata": {},
   "source": [
    "#### The purpose of the question"
   ]
  },
  {
   "cell_type": "markdown",
   "metadata": {},
   "source": [
    "#### How to solve the question"
   ]
  },
  {
   "cell_type": "markdown",
   "metadata": {},
   "source": [
    "#### Pre-processing"
   ]
  },
  {
   "cell_type": "markdown",
   "metadata": {},
   "source": [
    "#### Exploratory Analysis and Visualization"
   ]
  },
  {
   "cell_type": "markdown",
   "metadata": {},
   "source": [
    "#### Answer the question"
   ]
  },
  {
   "cell_type": "markdown",
   "metadata": {},
   "source": [
    "### Question 2:"
   ]
  },
  {
   "cell_type": "markdown",
   "metadata": {},
   "source": [
    "#### The purpose of the question"
   ]
  },
  {
   "cell_type": "markdown",
   "metadata": {},
   "source": [
    "#### How to solve the question"
   ]
  },
  {
   "cell_type": "markdown",
   "metadata": {},
   "source": [
    "#### Pre-processing"
   ]
  },
  {
   "cell_type": "markdown",
   "metadata": {},
   "source": [
    "#### Exploratory Analysis and Visualization"
   ]
  },
  {
   "cell_type": "markdown",
   "metadata": {},
   "source": [
    "#### Answer the question"
   ]
  },
  {
   "cell_type": "markdown",
   "metadata": {},
   "source": [
    "### Question 3:"
   ]
  },
  {
   "cell_type": "markdown",
   "metadata": {},
   "source": [
    "#### The purpose of the question"
   ]
  },
  {
   "cell_type": "markdown",
   "metadata": {},
   "source": [
    "#### How to solve the question"
   ]
  },
  {
   "cell_type": "markdown",
   "metadata": {},
   "source": [
    "#### Pre-processing"
   ]
  },
  {
   "cell_type": "markdown",
   "metadata": {},
   "source": [
    "#### Exploratory Analysis and Visualization"
   ]
  },
  {
   "cell_type": "markdown",
   "metadata": {},
   "source": [
    "#### Answer the question"
   ]
  },
  {
   "cell_type": "markdown",
   "metadata": {},
   "source": [
    "### Question 4:"
   ]
  },
  {
   "cell_type": "markdown",
   "metadata": {},
   "source": [
    "#### The purpose of the question"
   ]
  },
  {
   "cell_type": "markdown",
   "metadata": {},
   "source": [
    "#### How to solve the question"
   ]
  },
  {
   "cell_type": "markdown",
   "metadata": {},
   "source": [
    "#### Pre-processing"
   ]
  },
  {
   "cell_type": "markdown",
   "metadata": {},
   "source": [
    "#### Exploratory Analysis and Visualization"
   ]
  },
  {
   "cell_type": "markdown",
   "metadata": {},
   "source": [
    "#### Answer the question"
   ]
  },
  {
   "cell_type": "markdown",
   "metadata": {},
   "source": [
    "## Reflection"
   ]
  },
  {
   "cell_type": "markdown",
   "metadata": {},
   "source": [
    "## References"
   ]
  },
  {
   "cell_type": "markdown",
   "metadata": {},
   "source": [
    "* https://www.kaggle.com/datasets/sobhanmoosavi/us-accidents\n",
    "\n",
    "* Moosavi, Sobhan, Mohammad Hossein Samavatian, Srinivasan Parthasarathy, and Rajiv Ramnath. [“A Countrywide Traffic Accident Dataset.”](https://arxiv.org/abs/1906.05409), 2019.\n",
    "\n",
    "* Moosavi, Sobhan, Mohammad Hossein Samavatian, Srinivasan Parthasarathy, Radu Teodorescu, and Rajiv Ramnath. [\"Accident Risk Prediction based on Heterogeneous Sparse Data: New Dataset and Insights.\"](https://arxiv.org/abs/1909.09638) In proceedings of the 27th ACM SIGSPATIAL International Conference on Advances in Geographic Information Systems, ACM, 2019."
   ]
  }
 ],
 "metadata": {
  "kernelspec": {
   "display_name": "Python 3 (ipykernel)",
   "language": "python",
   "name": "python3"
  },
  "language_info": {
   "codemirror_mode": {
    "name": "ipython",
    "version": 3
   },
   "file_extension": ".py",
   "mimetype": "text/x-python",
   "name": "python",
   "nbconvert_exporter": "python",
   "pygments_lexer": "ipython3",
   "version": "3.10.8"
  }
 },
 "nbformat": 4,
 "nbformat_minor": 4
}
